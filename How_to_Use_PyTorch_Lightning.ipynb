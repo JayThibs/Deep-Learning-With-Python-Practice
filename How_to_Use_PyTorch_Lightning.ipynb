{
  "nbformat": 4,
  "nbformat_minor": 0,
  "metadata": {
    "colab": {
      "name": "How to Use PyTorch Lightning",
      "provenance": [],
      "collapsed_sections": [],
      "machine_shape": "hm",
      "authorship_tag": "ABX9TyM24p4yd1YC2zZsiKablkws",
      "include_colab_link": true
    },
    "kernelspec": {
      "name": "python3",
      "display_name": "Python 3"
    },
    "accelerator": "GPU",
    "widgets": {
      "application/vnd.jupyter.widget-state+json": {
        "e47f34c8b446425aadf566082687616b": {
          "model_module": "@jupyter-widgets/controls",
          "model_name": "HBoxModel",
          "state": {
            "_view_name": "HBoxView",
            "_dom_classes": [],
            "_model_name": "HBoxModel",
            "_view_module": "@jupyter-widgets/controls",
            "_model_module_version": "1.5.0",
            "_view_count": null,
            "_view_module_version": "1.5.0",
            "box_style": "",
            "layout": "IPY_MODEL_030743c235fd49549a8bc6169f708497",
            "_model_module": "@jupyter-widgets/controls",
            "children": [
              "IPY_MODEL_82e9cee8215e49bbbfbdaf81791b8f03",
              "IPY_MODEL_8e42e96723d84bfaac7b3e714f16d006"
            ]
          }
        },
        "030743c235fd49549a8bc6169f708497": {
          "model_module": "@jupyter-widgets/base",
          "model_name": "LayoutModel",
          "state": {
            "_view_name": "LayoutView",
            "grid_template_rows": null,
            "right": null,
            "justify_content": null,
            "_view_module": "@jupyter-widgets/base",
            "overflow": null,
            "_model_module_version": "1.2.0",
            "_view_count": null,
            "flex_flow": "row wrap",
            "width": "100%",
            "min_width": null,
            "border": null,
            "align_items": null,
            "bottom": null,
            "_model_module": "@jupyter-widgets/base",
            "top": null,
            "grid_column": null,
            "overflow_y": null,
            "overflow_x": null,
            "grid_auto_flow": null,
            "grid_area": null,
            "grid_template_columns": null,
            "flex": null,
            "_model_name": "LayoutModel",
            "justify_items": null,
            "grid_row": null,
            "max_height": null,
            "align_content": null,
            "visibility": null,
            "align_self": null,
            "height": null,
            "min_height": null,
            "padding": null,
            "grid_auto_rows": null,
            "grid_gap": null,
            "max_width": null,
            "order": null,
            "_view_module_version": "1.2.0",
            "grid_template_areas": null,
            "object_position": null,
            "object_fit": null,
            "grid_auto_columns": null,
            "margin": null,
            "display": "inline-flex",
            "left": null
          }
        },
        "82e9cee8215e49bbbfbdaf81791b8f03": {
          "model_module": "@jupyter-widgets/controls",
          "model_name": "FloatProgressModel",
          "state": {
            "_view_name": "ProgressView",
            "style": "IPY_MODEL_8fd5c5ebaced4c5c90c5c1e0621de208",
            "_dom_classes": [],
            "description": "Epoch 4: 100%",
            "_model_name": "FloatProgressModel",
            "bar_style": "success",
            "max": 6000,
            "_view_module": "@jupyter-widgets/controls",
            "_model_module_version": "1.5.0",
            "value": 6000,
            "_view_count": null,
            "_view_module_version": "1.5.0",
            "orientation": "horizontal",
            "min": 0,
            "description_tooltip": null,
            "_model_module": "@jupyter-widgets/controls",
            "layout": "IPY_MODEL_9da9f3947f624d479e7b962b87e78ba9"
          }
        },
        "8e42e96723d84bfaac7b3e714f16d006": {
          "model_module": "@jupyter-widgets/controls",
          "model_name": "HTMLModel",
          "state": {
            "_view_name": "HTMLView",
            "style": "IPY_MODEL_75b93a28ba1448b188ccf29556949b28",
            "_dom_classes": [],
            "description": "",
            "_model_name": "HTMLModel",
            "placeholder": "​",
            "_view_module": "@jupyter-widgets/controls",
            "_model_module_version": "1.5.0",
            "value": " 6000/6000 [00:24&lt;00:00, 244.93it/s, loss=0.0814, v_num=2, train_loss=0.016, train_acc=1]",
            "_view_count": null,
            "_view_module_version": "1.5.0",
            "description_tooltip": null,
            "_model_module": "@jupyter-widgets/controls",
            "layout": "IPY_MODEL_a86f106b4bed424aa24586779af935da"
          }
        },
        "8fd5c5ebaced4c5c90c5c1e0621de208": {
          "model_module": "@jupyter-widgets/controls",
          "model_name": "ProgressStyleModel",
          "state": {
            "_view_name": "StyleView",
            "_model_name": "ProgressStyleModel",
            "description_width": "initial",
            "_view_module": "@jupyter-widgets/base",
            "_model_module_version": "1.5.0",
            "_view_count": null,
            "_view_module_version": "1.2.0",
            "bar_color": null,
            "_model_module": "@jupyter-widgets/controls"
          }
        },
        "9da9f3947f624d479e7b962b87e78ba9": {
          "model_module": "@jupyter-widgets/base",
          "model_name": "LayoutModel",
          "state": {
            "_view_name": "LayoutView",
            "grid_template_rows": null,
            "right": null,
            "justify_content": null,
            "_view_module": "@jupyter-widgets/base",
            "overflow": null,
            "_model_module_version": "1.2.0",
            "_view_count": null,
            "flex_flow": null,
            "width": null,
            "min_width": null,
            "border": null,
            "align_items": null,
            "bottom": null,
            "_model_module": "@jupyter-widgets/base",
            "top": null,
            "grid_column": null,
            "overflow_y": null,
            "overflow_x": null,
            "grid_auto_flow": null,
            "grid_area": null,
            "grid_template_columns": null,
            "flex": "2",
            "_model_name": "LayoutModel",
            "justify_items": null,
            "grid_row": null,
            "max_height": null,
            "align_content": null,
            "visibility": null,
            "align_self": null,
            "height": null,
            "min_height": null,
            "padding": null,
            "grid_auto_rows": null,
            "grid_gap": null,
            "max_width": null,
            "order": null,
            "_view_module_version": "1.2.0",
            "grid_template_areas": null,
            "object_position": null,
            "object_fit": null,
            "grid_auto_columns": null,
            "margin": null,
            "display": null,
            "left": null
          }
        },
        "75b93a28ba1448b188ccf29556949b28": {
          "model_module": "@jupyter-widgets/controls",
          "model_name": "DescriptionStyleModel",
          "state": {
            "_view_name": "StyleView",
            "_model_name": "DescriptionStyleModel",
            "description_width": "",
            "_view_module": "@jupyter-widgets/base",
            "_model_module_version": "1.5.0",
            "_view_count": null,
            "_view_module_version": "1.2.0",
            "_model_module": "@jupyter-widgets/controls"
          }
        },
        "a86f106b4bed424aa24586779af935da": {
          "model_module": "@jupyter-widgets/base",
          "model_name": "LayoutModel",
          "state": {
            "_view_name": "LayoutView",
            "grid_template_rows": null,
            "right": null,
            "justify_content": null,
            "_view_module": "@jupyter-widgets/base",
            "overflow": null,
            "_model_module_version": "1.2.0",
            "_view_count": null,
            "flex_flow": null,
            "width": null,
            "min_width": null,
            "border": null,
            "align_items": null,
            "bottom": null,
            "_model_module": "@jupyter-widgets/base",
            "top": null,
            "grid_column": null,
            "overflow_y": null,
            "overflow_x": null,
            "grid_auto_flow": null,
            "grid_area": null,
            "grid_template_columns": null,
            "flex": null,
            "_model_name": "LayoutModel",
            "justify_items": null,
            "grid_row": null,
            "max_height": null,
            "align_content": null,
            "visibility": null,
            "align_self": null,
            "height": null,
            "min_height": null,
            "padding": null,
            "grid_auto_rows": null,
            "grid_gap": null,
            "max_width": null,
            "order": null,
            "_view_module_version": "1.2.0",
            "grid_template_areas": null,
            "object_position": null,
            "object_fit": null,
            "grid_auto_columns": null,
            "margin": null,
            "display": null,
            "left": null
          }
        },
        "1ae78bdd6e014e46af555843611fa975": {
          "model_module": "@jupyter-widgets/controls",
          "model_name": "HBoxModel",
          "state": {
            "_view_name": "HBoxView",
            "_dom_classes": [],
            "_model_name": "HBoxModel",
            "_view_module": "@jupyter-widgets/controls",
            "_model_module_version": "1.5.0",
            "_view_count": null,
            "_view_module_version": "1.5.0",
            "box_style": "",
            "layout": "IPY_MODEL_bd83f24913374a2da1a037142f8baa22",
            "_model_module": "@jupyter-widgets/controls",
            "children": [
              "IPY_MODEL_2b10f5a100014c14add48dc11a8b0cdc",
              "IPY_MODEL_8dc2876051d341e48694676963561fa1"
            ]
          }
        },
        "bd83f24913374a2da1a037142f8baa22": {
          "model_module": "@jupyter-widgets/base",
          "model_name": "LayoutModel",
          "state": {
            "_view_name": "LayoutView",
            "grid_template_rows": null,
            "right": null,
            "justify_content": null,
            "_view_module": "@jupyter-widgets/base",
            "overflow": null,
            "_model_module_version": "1.2.0",
            "_view_count": null,
            "flex_flow": null,
            "width": null,
            "min_width": null,
            "border": null,
            "align_items": null,
            "bottom": null,
            "_model_module": "@jupyter-widgets/base",
            "top": null,
            "grid_column": null,
            "overflow_y": null,
            "overflow_x": null,
            "grid_auto_flow": null,
            "grid_area": null,
            "grid_template_columns": null,
            "flex": null,
            "_model_name": "LayoutModel",
            "justify_items": null,
            "grid_row": null,
            "max_height": null,
            "align_content": null,
            "visibility": null,
            "align_self": null,
            "height": null,
            "min_height": null,
            "padding": null,
            "grid_auto_rows": null,
            "grid_gap": null,
            "max_width": null,
            "order": null,
            "_view_module_version": "1.2.0",
            "grid_template_areas": null,
            "object_position": null,
            "object_fit": null,
            "grid_auto_columns": null,
            "margin": null,
            "display": null,
            "left": null
          }
        },
        "2b10f5a100014c14add48dc11a8b0cdc": {
          "model_module": "@jupyter-widgets/controls",
          "model_name": "FloatProgressModel",
          "state": {
            "_view_name": "ProgressView",
            "style": "IPY_MODEL_6b6aaf3ebb044102b378b2370758fc8b",
            "_dom_classes": [],
            "description": "100%",
            "_model_name": "FloatProgressModel",
            "bar_style": "success",
            "max": 5,
            "_view_module": "@jupyter-widgets/controls",
            "_model_module_version": "1.5.0",
            "value": 5,
            "_view_count": null,
            "_view_module_version": "1.5.0",
            "orientation": "horizontal",
            "min": 0,
            "description_tooltip": null,
            "_model_module": "@jupyter-widgets/controls",
            "layout": "IPY_MODEL_9d754963a45f4afd9b27084c7b2e543c"
          }
        },
        "8dc2876051d341e48694676963561fa1": {
          "model_module": "@jupyter-widgets/controls",
          "model_name": "HTMLModel",
          "state": {
            "_view_name": "HTMLView",
            "style": "IPY_MODEL_9ba5ad2f7da24a859ed19b7dcdee1679",
            "_dom_classes": [],
            "description": "",
            "_model_name": "HTMLModel",
            "placeholder": "​",
            "_view_module": "@jupyter-widgets/controls",
            "_model_module_version": "1.5.0",
            "value": " 5/5 [14:40&lt;00:00, 176.18s/it]",
            "_view_count": null,
            "_view_module_version": "1.5.0",
            "description_tooltip": null,
            "_model_module": "@jupyter-widgets/controls",
            "layout": "IPY_MODEL_ac1352db4c0e49999e16963144c5c840"
          }
        },
        "6b6aaf3ebb044102b378b2370758fc8b": {
          "model_module": "@jupyter-widgets/controls",
          "model_name": "ProgressStyleModel",
          "state": {
            "_view_name": "StyleView",
            "_model_name": "ProgressStyleModel",
            "description_width": "initial",
            "_view_module": "@jupyter-widgets/base",
            "_model_module_version": "1.5.0",
            "_view_count": null,
            "_view_module_version": "1.2.0",
            "bar_color": null,
            "_model_module": "@jupyter-widgets/controls"
          }
        },
        "9d754963a45f4afd9b27084c7b2e543c": {
          "model_module": "@jupyter-widgets/base",
          "model_name": "LayoutModel",
          "state": {
            "_view_name": "LayoutView",
            "grid_template_rows": null,
            "right": null,
            "justify_content": null,
            "_view_module": "@jupyter-widgets/base",
            "overflow": null,
            "_model_module_version": "1.2.0",
            "_view_count": null,
            "flex_flow": null,
            "width": null,
            "min_width": null,
            "border": null,
            "align_items": null,
            "bottom": null,
            "_model_module": "@jupyter-widgets/base",
            "top": null,
            "grid_column": null,
            "overflow_y": null,
            "overflow_x": null,
            "grid_auto_flow": null,
            "grid_area": null,
            "grid_template_columns": null,
            "flex": null,
            "_model_name": "LayoutModel",
            "justify_items": null,
            "grid_row": null,
            "max_height": null,
            "align_content": null,
            "visibility": null,
            "align_self": null,
            "height": null,
            "min_height": null,
            "padding": null,
            "grid_auto_rows": null,
            "grid_gap": null,
            "max_width": null,
            "order": null,
            "_view_module_version": "1.2.0",
            "grid_template_areas": null,
            "object_position": null,
            "object_fit": null,
            "grid_auto_columns": null,
            "margin": null,
            "display": null,
            "left": null
          }
        },
        "9ba5ad2f7da24a859ed19b7dcdee1679": {
          "model_module": "@jupyter-widgets/controls",
          "model_name": "DescriptionStyleModel",
          "state": {
            "_view_name": "StyleView",
            "_model_name": "DescriptionStyleModel",
            "description_width": "",
            "_view_module": "@jupyter-widgets/base",
            "_model_module_version": "1.5.0",
            "_view_count": null,
            "_view_module_version": "1.2.0",
            "_model_module": "@jupyter-widgets/controls"
          }
        },
        "ac1352db4c0e49999e16963144c5c840": {
          "model_module": "@jupyter-widgets/base",
          "model_name": "LayoutModel",
          "state": {
            "_view_name": "LayoutView",
            "grid_template_rows": null,
            "right": null,
            "justify_content": null,
            "_view_module": "@jupyter-widgets/base",
            "overflow": null,
            "_model_module_version": "1.2.0",
            "_view_count": null,
            "flex_flow": null,
            "width": null,
            "min_width": null,
            "border": null,
            "align_items": null,
            "bottom": null,
            "_model_module": "@jupyter-widgets/base",
            "top": null,
            "grid_column": null,
            "overflow_y": null,
            "overflow_x": null,
            "grid_auto_flow": null,
            "grid_area": null,
            "grid_template_columns": null,
            "flex": null,
            "_model_name": "LayoutModel",
            "justify_items": null,
            "grid_row": null,
            "max_height": null,
            "align_content": null,
            "visibility": null,
            "align_self": null,
            "height": null,
            "min_height": null,
            "padding": null,
            "grid_auto_rows": null,
            "grid_gap": null,
            "max_width": null,
            "order": null,
            "_view_module_version": "1.2.0",
            "grid_template_areas": null,
            "object_position": null,
            "object_fit": null,
            "grid_auto_columns": null,
            "margin": null,
            "display": null,
            "left": null
          }
        },
        "a5b774d300bf47aa903fa7a2ace89457": {
          "model_module": "@jupyter-widgets/controls",
          "model_name": "VBoxModel",
          "state": {
            "_view_name": "VBoxView",
            "_dom_classes": [],
            "_model_name": "VBoxModel",
            "_view_module": "@jupyter-widgets/controls",
            "_model_module_version": "1.5.0",
            "_view_count": null,
            "_view_module_version": "1.5.0",
            "box_style": "",
            "layout": "IPY_MODEL_6a0d7b79fad3424098bd507427190dfe",
            "_model_module": "@jupyter-widgets/controls",
            "children": [
              "IPY_MODEL_a7b95399896a4c729369a1267721c50c",
              "IPY_MODEL_c40a3ee6c456442aa89b88371cbebdc5"
            ]
          }
        },
        "6a0d7b79fad3424098bd507427190dfe": {
          "model_module": "@jupyter-widgets/base",
          "model_name": "LayoutModel",
          "state": {
            "_view_name": "LayoutView",
            "grid_template_rows": null,
            "right": null,
            "justify_content": null,
            "_view_module": "@jupyter-widgets/base",
            "overflow": null,
            "_model_module_version": "1.2.0",
            "_view_count": null,
            "flex_flow": null,
            "width": null,
            "min_width": null,
            "border": null,
            "align_items": null,
            "bottom": null,
            "_model_module": "@jupyter-widgets/base",
            "top": null,
            "grid_column": null,
            "overflow_y": null,
            "overflow_x": null,
            "grid_auto_flow": null,
            "grid_area": null,
            "grid_template_columns": null,
            "flex": null,
            "_model_name": "LayoutModel",
            "justify_items": null,
            "grid_row": null,
            "max_height": null,
            "align_content": null,
            "visibility": null,
            "align_self": null,
            "height": null,
            "min_height": null,
            "padding": null,
            "grid_auto_rows": null,
            "grid_gap": null,
            "max_width": null,
            "order": null,
            "_view_module_version": "1.2.0",
            "grid_template_areas": null,
            "object_position": null,
            "object_fit": null,
            "grid_auto_columns": null,
            "margin": null,
            "display": null,
            "left": null
          }
        },
        "a7b95399896a4c729369a1267721c50c": {
          "model_module": "@jupyter-widgets/controls",
          "model_name": "LabelModel",
          "state": {
            "_view_name": "LabelView",
            "style": "IPY_MODEL_37427cdec17e4f83ac16e43fa4b71e15",
            "_dom_classes": [],
            "description": "",
            "_model_name": "LabelModel",
            "placeholder": "​",
            "_view_module": "@jupyter-widgets/controls",
            "_model_module_version": "1.5.0",
            "value": " 0.14MB of 0.14MB uploaded (0.00MB deduped)\r",
            "_view_count": null,
            "_view_module_version": "1.5.0",
            "description_tooltip": null,
            "_model_module": "@jupyter-widgets/controls",
            "layout": "IPY_MODEL_3245c90cff124a0e8e26d157f1d36836"
          }
        },
        "c40a3ee6c456442aa89b88371cbebdc5": {
          "model_module": "@jupyter-widgets/controls",
          "model_name": "FloatProgressModel",
          "state": {
            "_view_name": "ProgressView",
            "style": "IPY_MODEL_8f92549758e1476ea80eeaf3d5deee7d",
            "_dom_classes": [],
            "description": "",
            "_model_name": "FloatProgressModel",
            "bar_style": "",
            "max": 1,
            "_view_module": "@jupyter-widgets/controls",
            "_model_module_version": "1.5.0",
            "value": 1,
            "_view_count": null,
            "_view_module_version": "1.5.0",
            "orientation": "horizontal",
            "min": 0,
            "description_tooltip": null,
            "_model_module": "@jupyter-widgets/controls",
            "layout": "IPY_MODEL_0ddee8e013a44d7d87af9f687ffa8489"
          }
        },
        "37427cdec17e4f83ac16e43fa4b71e15": {
          "model_module": "@jupyter-widgets/controls",
          "model_name": "DescriptionStyleModel",
          "state": {
            "_view_name": "StyleView",
            "_model_name": "DescriptionStyleModel",
            "description_width": "",
            "_view_module": "@jupyter-widgets/base",
            "_model_module_version": "1.5.0",
            "_view_count": null,
            "_view_module_version": "1.2.0",
            "_model_module": "@jupyter-widgets/controls"
          }
        },
        "3245c90cff124a0e8e26d157f1d36836": {
          "model_module": "@jupyter-widgets/base",
          "model_name": "LayoutModel",
          "state": {
            "_view_name": "LayoutView",
            "grid_template_rows": null,
            "right": null,
            "justify_content": null,
            "_view_module": "@jupyter-widgets/base",
            "overflow": null,
            "_model_module_version": "1.2.0",
            "_view_count": null,
            "flex_flow": null,
            "width": null,
            "min_width": null,
            "border": null,
            "align_items": null,
            "bottom": null,
            "_model_module": "@jupyter-widgets/base",
            "top": null,
            "grid_column": null,
            "overflow_y": null,
            "overflow_x": null,
            "grid_auto_flow": null,
            "grid_area": null,
            "grid_template_columns": null,
            "flex": null,
            "_model_name": "LayoutModel",
            "justify_items": null,
            "grid_row": null,
            "max_height": null,
            "align_content": null,
            "visibility": null,
            "align_self": null,
            "height": null,
            "min_height": null,
            "padding": null,
            "grid_auto_rows": null,
            "grid_gap": null,
            "max_width": null,
            "order": null,
            "_view_module_version": "1.2.0",
            "grid_template_areas": null,
            "object_position": null,
            "object_fit": null,
            "grid_auto_columns": null,
            "margin": null,
            "display": null,
            "left": null
          }
        },
        "8f92549758e1476ea80eeaf3d5deee7d": {
          "model_module": "@jupyter-widgets/controls",
          "model_name": "ProgressStyleModel",
          "state": {
            "_view_name": "StyleView",
            "_model_name": "ProgressStyleModel",
            "description_width": "",
            "_view_module": "@jupyter-widgets/base",
            "_model_module_version": "1.5.0",
            "_view_count": null,
            "_view_module_version": "1.2.0",
            "bar_color": null,
            "_model_module": "@jupyter-widgets/controls"
          }
        },
        "0ddee8e013a44d7d87af9f687ffa8489": {
          "model_module": "@jupyter-widgets/base",
          "model_name": "LayoutModel",
          "state": {
            "_view_name": "LayoutView",
            "grid_template_rows": null,
            "right": null,
            "justify_content": null,
            "_view_module": "@jupyter-widgets/base",
            "overflow": null,
            "_model_module_version": "1.2.0",
            "_view_count": null,
            "flex_flow": null,
            "width": null,
            "min_width": null,
            "border": null,
            "align_items": null,
            "bottom": null,
            "_model_module": "@jupyter-widgets/base",
            "top": null,
            "grid_column": null,
            "overflow_y": null,
            "overflow_x": null,
            "grid_auto_flow": null,
            "grid_area": null,
            "grid_template_columns": null,
            "flex": null,
            "_model_name": "LayoutModel",
            "justify_items": null,
            "grid_row": null,
            "max_height": null,
            "align_content": null,
            "visibility": null,
            "align_self": null,
            "height": null,
            "min_height": null,
            "padding": null,
            "grid_auto_rows": null,
            "grid_gap": null,
            "max_width": null,
            "order": null,
            "_view_module_version": "1.2.0",
            "grid_template_areas": null,
            "object_position": null,
            "object_fit": null,
            "grid_auto_columns": null,
            "margin": null,
            "display": null,
            "left": null
          }
        },
        "9fef7bc5a2774171947a15e3e784b94c": {
          "model_module": "@jupyter-widgets/controls",
          "model_name": "HBoxModel",
          "state": {
            "_view_name": "HBoxView",
            "_dom_classes": [],
            "_model_name": "HBoxModel",
            "_view_module": "@jupyter-widgets/controls",
            "_model_module_version": "1.5.0",
            "_view_count": null,
            "_view_module_version": "1.5.0",
            "box_style": "",
            "layout": "IPY_MODEL_f0ef91be1fdf4a80994b9901255d5bcf",
            "_model_module": "@jupyter-widgets/controls",
            "children": [
              "IPY_MODEL_84c8ee94aaad4a67a2fba17db9ec0f5c",
              "IPY_MODEL_8df40c2ec0f841059da346569d24e36f"
            ]
          }
        },
        "f0ef91be1fdf4a80994b9901255d5bcf": {
          "model_module": "@jupyter-widgets/base",
          "model_name": "LayoutModel",
          "state": {
            "_view_name": "LayoutView",
            "grid_template_rows": null,
            "right": null,
            "justify_content": null,
            "_view_module": "@jupyter-widgets/base",
            "overflow": null,
            "_model_module_version": "1.2.0",
            "_view_count": null,
            "flex_flow": null,
            "width": null,
            "min_width": null,
            "border": null,
            "align_items": null,
            "bottom": null,
            "_model_module": "@jupyter-widgets/base",
            "top": null,
            "grid_column": null,
            "overflow_y": null,
            "overflow_x": null,
            "grid_auto_flow": null,
            "grid_area": null,
            "grid_template_columns": null,
            "flex": null,
            "_model_name": "LayoutModel",
            "justify_items": null,
            "grid_row": null,
            "max_height": null,
            "align_content": null,
            "visibility": null,
            "align_self": null,
            "height": null,
            "min_height": null,
            "padding": null,
            "grid_auto_rows": null,
            "grid_gap": null,
            "max_width": null,
            "order": null,
            "_view_module_version": "1.2.0",
            "grid_template_areas": null,
            "object_position": null,
            "object_fit": null,
            "grid_auto_columns": null,
            "margin": null,
            "display": null,
            "left": null
          }
        },
        "84c8ee94aaad4a67a2fba17db9ec0f5c": {
          "model_module": "@jupyter-widgets/controls",
          "model_name": "FloatProgressModel",
          "state": {
            "_view_name": "ProgressView",
            "style": "IPY_MODEL_eccdc19c1ad8449c9b6916f83152c367",
            "_dom_classes": [],
            "description": "",
            "_model_name": "FloatProgressModel",
            "bar_style": "success",
            "max": 9912422,
            "_view_module": "@jupyter-widgets/controls",
            "_model_module_version": "1.5.0",
            "value": 9912422,
            "_view_count": null,
            "_view_module_version": "1.5.0",
            "orientation": "horizontal",
            "min": 0,
            "description_tooltip": null,
            "_model_module": "@jupyter-widgets/controls",
            "layout": "IPY_MODEL_3f473ec64a9a4db3924367b2200feb3d"
          }
        },
        "8df40c2ec0f841059da346569d24e36f": {
          "model_module": "@jupyter-widgets/controls",
          "model_name": "HTMLModel",
          "state": {
            "_view_name": "HTMLView",
            "style": "IPY_MODEL_16b7e376d89d46b68c007002a9cfea51",
            "_dom_classes": [],
            "description": "",
            "_model_name": "HTMLModel",
            "placeholder": "​",
            "_view_module": "@jupyter-widgets/controls",
            "_model_module_version": "1.5.0",
            "value": " 9913344/? [04:57&lt;00:00, 33309.91it/s]",
            "_view_count": null,
            "_view_module_version": "1.5.0",
            "description_tooltip": null,
            "_model_module": "@jupyter-widgets/controls",
            "layout": "IPY_MODEL_f0d0a04a3120422f8c031ba21940bbc6"
          }
        },
        "eccdc19c1ad8449c9b6916f83152c367": {
          "model_module": "@jupyter-widgets/controls",
          "model_name": "ProgressStyleModel",
          "state": {
            "_view_name": "StyleView",
            "_model_name": "ProgressStyleModel",
            "description_width": "initial",
            "_view_module": "@jupyter-widgets/base",
            "_model_module_version": "1.5.0",
            "_view_count": null,
            "_view_module_version": "1.2.0",
            "bar_color": null,
            "_model_module": "@jupyter-widgets/controls"
          }
        },
        "3f473ec64a9a4db3924367b2200feb3d": {
          "model_module": "@jupyter-widgets/base",
          "model_name": "LayoutModel",
          "state": {
            "_view_name": "LayoutView",
            "grid_template_rows": null,
            "right": null,
            "justify_content": null,
            "_view_module": "@jupyter-widgets/base",
            "overflow": null,
            "_model_module_version": "1.2.0",
            "_view_count": null,
            "flex_flow": null,
            "width": null,
            "min_width": null,
            "border": null,
            "align_items": null,
            "bottom": null,
            "_model_module": "@jupyter-widgets/base",
            "top": null,
            "grid_column": null,
            "overflow_y": null,
            "overflow_x": null,
            "grid_auto_flow": null,
            "grid_area": null,
            "grid_template_columns": null,
            "flex": null,
            "_model_name": "LayoutModel",
            "justify_items": null,
            "grid_row": null,
            "max_height": null,
            "align_content": null,
            "visibility": null,
            "align_self": null,
            "height": null,
            "min_height": null,
            "padding": null,
            "grid_auto_rows": null,
            "grid_gap": null,
            "max_width": null,
            "order": null,
            "_view_module_version": "1.2.0",
            "grid_template_areas": null,
            "object_position": null,
            "object_fit": null,
            "grid_auto_columns": null,
            "margin": null,
            "display": null,
            "left": null
          }
        },
        "16b7e376d89d46b68c007002a9cfea51": {
          "model_module": "@jupyter-widgets/controls",
          "model_name": "DescriptionStyleModel",
          "state": {
            "_view_name": "StyleView",
            "_model_name": "DescriptionStyleModel",
            "description_width": "",
            "_view_module": "@jupyter-widgets/base",
            "_model_module_version": "1.5.0",
            "_view_count": null,
            "_view_module_version": "1.2.0",
            "_model_module": "@jupyter-widgets/controls"
          }
        },
        "f0d0a04a3120422f8c031ba21940bbc6": {
          "model_module": "@jupyter-widgets/base",
          "model_name": "LayoutModel",
          "state": {
            "_view_name": "LayoutView",
            "grid_template_rows": null,
            "right": null,
            "justify_content": null,
            "_view_module": "@jupyter-widgets/base",
            "overflow": null,
            "_model_module_version": "1.2.0",
            "_view_count": null,
            "flex_flow": null,
            "width": null,
            "min_width": null,
            "border": null,
            "align_items": null,
            "bottom": null,
            "_model_module": "@jupyter-widgets/base",
            "top": null,
            "grid_column": null,
            "overflow_y": null,
            "overflow_x": null,
            "grid_auto_flow": null,
            "grid_area": null,
            "grid_template_columns": null,
            "flex": null,
            "_model_name": "LayoutModel",
            "justify_items": null,
            "grid_row": null,
            "max_height": null,
            "align_content": null,
            "visibility": null,
            "align_self": null,
            "height": null,
            "min_height": null,
            "padding": null,
            "grid_auto_rows": null,
            "grid_gap": null,
            "max_width": null,
            "order": null,
            "_view_module_version": "1.2.0",
            "grid_template_areas": null,
            "object_position": null,
            "object_fit": null,
            "grid_auto_columns": null,
            "margin": null,
            "display": null,
            "left": null
          }
        },
        "dad284ce54454b0a956b25ae9378faca": {
          "model_module": "@jupyter-widgets/controls",
          "model_name": "HBoxModel",
          "state": {
            "_view_name": "HBoxView",
            "_dom_classes": [],
            "_model_name": "HBoxModel",
            "_view_module": "@jupyter-widgets/controls",
            "_model_module_version": "1.5.0",
            "_view_count": null,
            "_view_module_version": "1.5.0",
            "box_style": "",
            "layout": "IPY_MODEL_5db72ebd5ef548989568d68f1af9d666",
            "_model_module": "@jupyter-widgets/controls",
            "children": [
              "IPY_MODEL_e8de258cbba54e729b1c96df4131fbdc",
              "IPY_MODEL_bd0d7b8c8bae42bdabcc495d5fb7c3a4"
            ]
          }
        },
        "5db72ebd5ef548989568d68f1af9d666": {
          "model_module": "@jupyter-widgets/base",
          "model_name": "LayoutModel",
          "state": {
            "_view_name": "LayoutView",
            "grid_template_rows": null,
            "right": null,
            "justify_content": null,
            "_view_module": "@jupyter-widgets/base",
            "overflow": null,
            "_model_module_version": "1.2.0",
            "_view_count": null,
            "flex_flow": null,
            "width": null,
            "min_width": null,
            "border": null,
            "align_items": null,
            "bottom": null,
            "_model_module": "@jupyter-widgets/base",
            "top": null,
            "grid_column": null,
            "overflow_y": null,
            "overflow_x": null,
            "grid_auto_flow": null,
            "grid_area": null,
            "grid_template_columns": null,
            "flex": null,
            "_model_name": "LayoutModel",
            "justify_items": null,
            "grid_row": null,
            "max_height": null,
            "align_content": null,
            "visibility": null,
            "align_self": null,
            "height": null,
            "min_height": null,
            "padding": null,
            "grid_auto_rows": null,
            "grid_gap": null,
            "max_width": null,
            "order": null,
            "_view_module_version": "1.2.0",
            "grid_template_areas": null,
            "object_position": null,
            "object_fit": null,
            "grid_auto_columns": null,
            "margin": null,
            "display": null,
            "left": null
          }
        },
        "e8de258cbba54e729b1c96df4131fbdc": {
          "model_module": "@jupyter-widgets/controls",
          "model_name": "FloatProgressModel",
          "state": {
            "_view_name": "ProgressView",
            "style": "IPY_MODEL_ef7c5fad84b7402eba6af42d70c0110c",
            "_dom_classes": [],
            "description": "",
            "_model_name": "FloatProgressModel",
            "bar_style": "success",
            "max": 28881,
            "_view_module": "@jupyter-widgets/controls",
            "_model_module_version": "1.5.0",
            "value": 28881,
            "_view_count": null,
            "_view_module_version": "1.5.0",
            "orientation": "horizontal",
            "min": 0,
            "description_tooltip": null,
            "_model_module": "@jupyter-widgets/controls",
            "layout": "IPY_MODEL_c95712e2f94947cabd6d78f8a5912f0b"
          }
        },
        "bd0d7b8c8bae42bdabcc495d5fb7c3a4": {
          "model_module": "@jupyter-widgets/controls",
          "model_name": "HTMLModel",
          "state": {
            "_view_name": "HTMLView",
            "style": "IPY_MODEL_6b5ae75138a3455b83a54531c7ed3b95",
            "_dom_classes": [],
            "description": "",
            "_model_name": "HTMLModel",
            "placeholder": "​",
            "_view_module": "@jupyter-widgets/controls",
            "_model_module_version": "1.5.0",
            "value": " 29696/? [00:02&lt;00:00, 12767.36it/s]",
            "_view_count": null,
            "_view_module_version": "1.5.0",
            "description_tooltip": null,
            "_model_module": "@jupyter-widgets/controls",
            "layout": "IPY_MODEL_a4625e32155b47a9a30eb36493beac30"
          }
        },
        "ef7c5fad84b7402eba6af42d70c0110c": {
          "model_module": "@jupyter-widgets/controls",
          "model_name": "ProgressStyleModel",
          "state": {
            "_view_name": "StyleView",
            "_model_name": "ProgressStyleModel",
            "description_width": "initial",
            "_view_module": "@jupyter-widgets/base",
            "_model_module_version": "1.5.0",
            "_view_count": null,
            "_view_module_version": "1.2.0",
            "bar_color": null,
            "_model_module": "@jupyter-widgets/controls"
          }
        },
        "c95712e2f94947cabd6d78f8a5912f0b": {
          "model_module": "@jupyter-widgets/base",
          "model_name": "LayoutModel",
          "state": {
            "_view_name": "LayoutView",
            "grid_template_rows": null,
            "right": null,
            "justify_content": null,
            "_view_module": "@jupyter-widgets/base",
            "overflow": null,
            "_model_module_version": "1.2.0",
            "_view_count": null,
            "flex_flow": null,
            "width": null,
            "min_width": null,
            "border": null,
            "align_items": null,
            "bottom": null,
            "_model_module": "@jupyter-widgets/base",
            "top": null,
            "grid_column": null,
            "overflow_y": null,
            "overflow_x": null,
            "grid_auto_flow": null,
            "grid_area": null,
            "grid_template_columns": null,
            "flex": null,
            "_model_name": "LayoutModel",
            "justify_items": null,
            "grid_row": null,
            "max_height": null,
            "align_content": null,
            "visibility": null,
            "align_self": null,
            "height": null,
            "min_height": null,
            "padding": null,
            "grid_auto_rows": null,
            "grid_gap": null,
            "max_width": null,
            "order": null,
            "_view_module_version": "1.2.0",
            "grid_template_areas": null,
            "object_position": null,
            "object_fit": null,
            "grid_auto_columns": null,
            "margin": null,
            "display": null,
            "left": null
          }
        },
        "6b5ae75138a3455b83a54531c7ed3b95": {
          "model_module": "@jupyter-widgets/controls",
          "model_name": "DescriptionStyleModel",
          "state": {
            "_view_name": "StyleView",
            "_model_name": "DescriptionStyleModel",
            "description_width": "",
            "_view_module": "@jupyter-widgets/base",
            "_model_module_version": "1.5.0",
            "_view_count": null,
            "_view_module_version": "1.2.0",
            "_model_module": "@jupyter-widgets/controls"
          }
        },
        "a4625e32155b47a9a30eb36493beac30": {
          "model_module": "@jupyter-widgets/base",
          "model_name": "LayoutModel",
          "state": {
            "_view_name": "LayoutView",
            "grid_template_rows": null,
            "right": null,
            "justify_content": null,
            "_view_module": "@jupyter-widgets/base",
            "overflow": null,
            "_model_module_version": "1.2.0",
            "_view_count": null,
            "flex_flow": null,
            "width": null,
            "min_width": null,
            "border": null,
            "align_items": null,
            "bottom": null,
            "_model_module": "@jupyter-widgets/base",
            "top": null,
            "grid_column": null,
            "overflow_y": null,
            "overflow_x": null,
            "grid_auto_flow": null,
            "grid_area": null,
            "grid_template_columns": null,
            "flex": null,
            "_model_name": "LayoutModel",
            "justify_items": null,
            "grid_row": null,
            "max_height": null,
            "align_content": null,
            "visibility": null,
            "align_self": null,
            "height": null,
            "min_height": null,
            "padding": null,
            "grid_auto_rows": null,
            "grid_gap": null,
            "max_width": null,
            "order": null,
            "_view_module_version": "1.2.0",
            "grid_template_areas": null,
            "object_position": null,
            "object_fit": null,
            "grid_auto_columns": null,
            "margin": null,
            "display": null,
            "left": null
          }
        },
        "6e0c05583d9548179eb35da477713d99": {
          "model_module": "@jupyter-widgets/controls",
          "model_name": "HBoxModel",
          "state": {
            "_view_name": "HBoxView",
            "_dom_classes": [],
            "_model_name": "HBoxModel",
            "_view_module": "@jupyter-widgets/controls",
            "_model_module_version": "1.5.0",
            "_view_count": null,
            "_view_module_version": "1.5.0",
            "box_style": "",
            "layout": "IPY_MODEL_3703214c450943f7ac65ce3f4318d8f8",
            "_model_module": "@jupyter-widgets/controls",
            "children": [
              "IPY_MODEL_bb9d3a89022341aea46e5560ea0c776d",
              "IPY_MODEL_963653fdd7b048fd8be4743dbec17e75"
            ]
          }
        },
        "3703214c450943f7ac65ce3f4318d8f8": {
          "model_module": "@jupyter-widgets/base",
          "model_name": "LayoutModel",
          "state": {
            "_view_name": "LayoutView",
            "grid_template_rows": null,
            "right": null,
            "justify_content": null,
            "_view_module": "@jupyter-widgets/base",
            "overflow": null,
            "_model_module_version": "1.2.0",
            "_view_count": null,
            "flex_flow": null,
            "width": null,
            "min_width": null,
            "border": null,
            "align_items": null,
            "bottom": null,
            "_model_module": "@jupyter-widgets/base",
            "top": null,
            "grid_column": null,
            "overflow_y": null,
            "overflow_x": null,
            "grid_auto_flow": null,
            "grid_area": null,
            "grid_template_columns": null,
            "flex": null,
            "_model_name": "LayoutModel",
            "justify_items": null,
            "grid_row": null,
            "max_height": null,
            "align_content": null,
            "visibility": null,
            "align_self": null,
            "height": null,
            "min_height": null,
            "padding": null,
            "grid_auto_rows": null,
            "grid_gap": null,
            "max_width": null,
            "order": null,
            "_view_module_version": "1.2.0",
            "grid_template_areas": null,
            "object_position": null,
            "object_fit": null,
            "grid_auto_columns": null,
            "margin": null,
            "display": null,
            "left": null
          }
        },
        "bb9d3a89022341aea46e5560ea0c776d": {
          "model_module": "@jupyter-widgets/controls",
          "model_name": "FloatProgressModel",
          "state": {
            "_view_name": "ProgressView",
            "style": "IPY_MODEL_ca421a92d6684572977d71d2ab066688",
            "_dom_classes": [],
            "description": "",
            "_model_name": "FloatProgressModel",
            "bar_style": "success",
            "max": 1648877,
            "_view_module": "@jupyter-widgets/controls",
            "_model_module_version": "1.5.0",
            "value": 1648877,
            "_view_count": null,
            "_view_module_version": "1.5.0",
            "orientation": "horizontal",
            "min": 0,
            "description_tooltip": null,
            "_model_module": "@jupyter-widgets/controls",
            "layout": "IPY_MODEL_d7c00f7454984afca57083683f149f0a"
          }
        },
        "963653fdd7b048fd8be4743dbec17e75": {
          "model_module": "@jupyter-widgets/controls",
          "model_name": "HTMLModel",
          "state": {
            "_view_name": "HTMLView",
            "style": "IPY_MODEL_782a4ee0af0f4740a6b4bfbe4a257624",
            "_dom_classes": [],
            "description": "",
            "_model_name": "HTMLModel",
            "placeholder": "​",
            "_view_module": "@jupyter-widgets/controls",
            "_model_module_version": "1.5.0",
            "value": " 1649664/? [00:01&lt;00:00, 1295417.66it/s]",
            "_view_count": null,
            "_view_module_version": "1.5.0",
            "description_tooltip": null,
            "_model_module": "@jupyter-widgets/controls",
            "layout": "IPY_MODEL_0c9e028e3c794235b5da51dac7759ae6"
          }
        },
        "ca421a92d6684572977d71d2ab066688": {
          "model_module": "@jupyter-widgets/controls",
          "model_name": "ProgressStyleModel",
          "state": {
            "_view_name": "StyleView",
            "_model_name": "ProgressStyleModel",
            "description_width": "initial",
            "_view_module": "@jupyter-widgets/base",
            "_model_module_version": "1.5.0",
            "_view_count": null,
            "_view_module_version": "1.2.0",
            "bar_color": null,
            "_model_module": "@jupyter-widgets/controls"
          }
        },
        "d7c00f7454984afca57083683f149f0a": {
          "model_module": "@jupyter-widgets/base",
          "model_name": "LayoutModel",
          "state": {
            "_view_name": "LayoutView",
            "grid_template_rows": null,
            "right": null,
            "justify_content": null,
            "_view_module": "@jupyter-widgets/base",
            "overflow": null,
            "_model_module_version": "1.2.0",
            "_view_count": null,
            "flex_flow": null,
            "width": null,
            "min_width": null,
            "border": null,
            "align_items": null,
            "bottom": null,
            "_model_module": "@jupyter-widgets/base",
            "top": null,
            "grid_column": null,
            "overflow_y": null,
            "overflow_x": null,
            "grid_auto_flow": null,
            "grid_area": null,
            "grid_template_columns": null,
            "flex": null,
            "_model_name": "LayoutModel",
            "justify_items": null,
            "grid_row": null,
            "max_height": null,
            "align_content": null,
            "visibility": null,
            "align_self": null,
            "height": null,
            "min_height": null,
            "padding": null,
            "grid_auto_rows": null,
            "grid_gap": null,
            "max_width": null,
            "order": null,
            "_view_module_version": "1.2.0",
            "grid_template_areas": null,
            "object_position": null,
            "object_fit": null,
            "grid_auto_columns": null,
            "margin": null,
            "display": null,
            "left": null
          }
        },
        "782a4ee0af0f4740a6b4bfbe4a257624": {
          "model_module": "@jupyter-widgets/controls",
          "model_name": "DescriptionStyleModel",
          "state": {
            "_view_name": "StyleView",
            "_model_name": "DescriptionStyleModel",
            "description_width": "",
            "_view_module": "@jupyter-widgets/base",
            "_model_module_version": "1.5.0",
            "_view_count": null,
            "_view_module_version": "1.2.0",
            "_model_module": "@jupyter-widgets/controls"
          }
        },
        "0c9e028e3c794235b5da51dac7759ae6": {
          "model_module": "@jupyter-widgets/base",
          "model_name": "LayoutModel",
          "state": {
            "_view_name": "LayoutView",
            "grid_template_rows": null,
            "right": null,
            "justify_content": null,
            "_view_module": "@jupyter-widgets/base",
            "overflow": null,
            "_model_module_version": "1.2.0",
            "_view_count": null,
            "flex_flow": null,
            "width": null,
            "min_width": null,
            "border": null,
            "align_items": null,
            "bottom": null,
            "_model_module": "@jupyter-widgets/base",
            "top": null,
            "grid_column": null,
            "overflow_y": null,
            "overflow_x": null,
            "grid_auto_flow": null,
            "grid_area": null,
            "grid_template_columns": null,
            "flex": null,
            "_model_name": "LayoutModel",
            "justify_items": null,
            "grid_row": null,
            "max_height": null,
            "align_content": null,
            "visibility": null,
            "align_self": null,
            "height": null,
            "min_height": null,
            "padding": null,
            "grid_auto_rows": null,
            "grid_gap": null,
            "max_width": null,
            "order": null,
            "_view_module_version": "1.2.0",
            "grid_template_areas": null,
            "object_position": null,
            "object_fit": null,
            "grid_auto_columns": null,
            "margin": null,
            "display": null,
            "left": null
          }
        },
        "c58ab360c7584269ad29a4555798f372": {
          "model_module": "@jupyter-widgets/controls",
          "model_name": "HBoxModel",
          "state": {
            "_view_name": "HBoxView",
            "_dom_classes": [],
            "_model_name": "HBoxModel",
            "_view_module": "@jupyter-widgets/controls",
            "_model_module_version": "1.5.0",
            "_view_count": null,
            "_view_module_version": "1.5.0",
            "box_style": "",
            "layout": "IPY_MODEL_5f78532e3c0d4cd2809e68dbc80878de",
            "_model_module": "@jupyter-widgets/controls",
            "children": [
              "IPY_MODEL_73256f8e2ed84965b533e162be74ef9e",
              "IPY_MODEL_614cb180b38e4c1cad4f37e979ba6154"
            ]
          }
        },
        "5f78532e3c0d4cd2809e68dbc80878de": {
          "model_module": "@jupyter-widgets/base",
          "model_name": "LayoutModel",
          "state": {
            "_view_name": "LayoutView",
            "grid_template_rows": null,
            "right": null,
            "justify_content": null,
            "_view_module": "@jupyter-widgets/base",
            "overflow": null,
            "_model_module_version": "1.2.0",
            "_view_count": null,
            "flex_flow": null,
            "width": null,
            "min_width": null,
            "border": null,
            "align_items": null,
            "bottom": null,
            "_model_module": "@jupyter-widgets/base",
            "top": null,
            "grid_column": null,
            "overflow_y": null,
            "overflow_x": null,
            "grid_auto_flow": null,
            "grid_area": null,
            "grid_template_columns": null,
            "flex": null,
            "_model_name": "LayoutModel",
            "justify_items": null,
            "grid_row": null,
            "max_height": null,
            "align_content": null,
            "visibility": null,
            "align_self": null,
            "height": null,
            "min_height": null,
            "padding": null,
            "grid_auto_rows": null,
            "grid_gap": null,
            "max_width": null,
            "order": null,
            "_view_module_version": "1.2.0",
            "grid_template_areas": null,
            "object_position": null,
            "object_fit": null,
            "grid_auto_columns": null,
            "margin": null,
            "display": null,
            "left": null
          }
        },
        "73256f8e2ed84965b533e162be74ef9e": {
          "model_module": "@jupyter-widgets/controls",
          "model_name": "FloatProgressModel",
          "state": {
            "_view_name": "ProgressView",
            "style": "IPY_MODEL_9003b4a36d67448eb53507705305ffa4",
            "_dom_classes": [],
            "description": "",
            "_model_name": "FloatProgressModel",
            "bar_style": "success",
            "max": 4542,
            "_view_module": "@jupyter-widgets/controls",
            "_model_module_version": "1.5.0",
            "value": 4542,
            "_view_count": null,
            "_view_module_version": "1.5.0",
            "orientation": "horizontal",
            "min": 0,
            "description_tooltip": null,
            "_model_module": "@jupyter-widgets/controls",
            "layout": "IPY_MODEL_afd48c803eea4e09a3e12704e56ce88b"
          }
        },
        "614cb180b38e4c1cad4f37e979ba6154": {
          "model_module": "@jupyter-widgets/controls",
          "model_name": "HTMLModel",
          "state": {
            "_view_name": "HTMLView",
            "style": "IPY_MODEL_c694298a82d748fcb4da57e75145af77",
            "_dom_classes": [],
            "description": "",
            "_model_name": "HTMLModel",
            "placeholder": "​",
            "_view_module": "@jupyter-widgets/controls",
            "_model_module_version": "1.5.0",
            "value": " 5120/? [00:00&lt;00:00, 14602.16it/s]",
            "_view_count": null,
            "_view_module_version": "1.5.0",
            "description_tooltip": null,
            "_model_module": "@jupyter-widgets/controls",
            "layout": "IPY_MODEL_b15fadef58224decbf7998236677477a"
          }
        },
        "9003b4a36d67448eb53507705305ffa4": {
          "model_module": "@jupyter-widgets/controls",
          "model_name": "ProgressStyleModel",
          "state": {
            "_view_name": "StyleView",
            "_model_name": "ProgressStyleModel",
            "description_width": "initial",
            "_view_module": "@jupyter-widgets/base",
            "_model_module_version": "1.5.0",
            "_view_count": null,
            "_view_module_version": "1.2.0",
            "bar_color": null,
            "_model_module": "@jupyter-widgets/controls"
          }
        },
        "afd48c803eea4e09a3e12704e56ce88b": {
          "model_module": "@jupyter-widgets/base",
          "model_name": "LayoutModel",
          "state": {
            "_view_name": "LayoutView",
            "grid_template_rows": null,
            "right": null,
            "justify_content": null,
            "_view_module": "@jupyter-widgets/base",
            "overflow": null,
            "_model_module_version": "1.2.0",
            "_view_count": null,
            "flex_flow": null,
            "width": null,
            "min_width": null,
            "border": null,
            "align_items": null,
            "bottom": null,
            "_model_module": "@jupyter-widgets/base",
            "top": null,
            "grid_column": null,
            "overflow_y": null,
            "overflow_x": null,
            "grid_auto_flow": null,
            "grid_area": null,
            "grid_template_columns": null,
            "flex": null,
            "_model_name": "LayoutModel",
            "justify_items": null,
            "grid_row": null,
            "max_height": null,
            "align_content": null,
            "visibility": null,
            "align_self": null,
            "height": null,
            "min_height": null,
            "padding": null,
            "grid_auto_rows": null,
            "grid_gap": null,
            "max_width": null,
            "order": null,
            "_view_module_version": "1.2.0",
            "grid_template_areas": null,
            "object_position": null,
            "object_fit": null,
            "grid_auto_columns": null,
            "margin": null,
            "display": null,
            "left": null
          }
        },
        "c694298a82d748fcb4da57e75145af77": {
          "model_module": "@jupyter-widgets/controls",
          "model_name": "DescriptionStyleModel",
          "state": {
            "_view_name": "StyleView",
            "_model_name": "DescriptionStyleModel",
            "description_width": "",
            "_view_module": "@jupyter-widgets/base",
            "_model_module_version": "1.5.0",
            "_view_count": null,
            "_view_module_version": "1.2.0",
            "_model_module": "@jupyter-widgets/controls"
          }
        },
        "b15fadef58224decbf7998236677477a": {
          "model_module": "@jupyter-widgets/base",
          "model_name": "LayoutModel",
          "state": {
            "_view_name": "LayoutView",
            "grid_template_rows": null,
            "right": null,
            "justify_content": null,
            "_view_module": "@jupyter-widgets/base",
            "overflow": null,
            "_model_module_version": "1.2.0",
            "_view_count": null,
            "flex_flow": null,
            "width": null,
            "min_width": null,
            "border": null,
            "align_items": null,
            "bottom": null,
            "_model_module": "@jupyter-widgets/base",
            "top": null,
            "grid_column": null,
            "overflow_y": null,
            "overflow_x": null,
            "grid_auto_flow": null,
            "grid_area": null,
            "grid_template_columns": null,
            "flex": null,
            "_model_name": "LayoutModel",
            "justify_items": null,
            "grid_row": null,
            "max_height": null,
            "align_content": null,
            "visibility": null,
            "align_self": null,
            "height": null,
            "min_height": null,
            "padding": null,
            "grid_auto_rows": null,
            "grid_gap": null,
            "max_width": null,
            "order": null,
            "_view_module_version": "1.2.0",
            "grid_template_areas": null,
            "object_position": null,
            "object_fit": null,
            "grid_auto_columns": null,
            "margin": null,
            "display": null,
            "left": null
          }
        },
        "8f7df31b0f37482cac53c8906df11187": {
          "model_module": "@jupyter-widgets/controls",
          "model_name": "HBoxModel",
          "state": {
            "_view_name": "HBoxView",
            "_dom_classes": [],
            "_model_name": "HBoxModel",
            "_view_module": "@jupyter-widgets/controls",
            "_model_module_version": "1.5.0",
            "_view_count": null,
            "_view_module_version": "1.5.0",
            "box_style": "",
            "layout": "IPY_MODEL_0b40ecf0331642bfbc156bffc3a8ddf8",
            "_model_module": "@jupyter-widgets/controls",
            "children": [
              "IPY_MODEL_949a9f59e0dc4b3793255ab4228296f5",
              "IPY_MODEL_242e604b79d04a219d41c065cb75847d"
            ]
          }
        },
        "0b40ecf0331642bfbc156bffc3a8ddf8": {
          "model_module": "@jupyter-widgets/base",
          "model_name": "LayoutModel",
          "state": {
            "_view_name": "LayoutView",
            "grid_template_rows": null,
            "right": null,
            "justify_content": null,
            "_view_module": "@jupyter-widgets/base",
            "overflow": null,
            "_model_module_version": "1.2.0",
            "_view_count": null,
            "flex_flow": "row wrap",
            "width": "100%",
            "min_width": null,
            "border": null,
            "align_items": null,
            "bottom": null,
            "_model_module": "@jupyter-widgets/base",
            "top": null,
            "grid_column": null,
            "overflow_y": null,
            "overflow_x": null,
            "grid_auto_flow": null,
            "grid_area": null,
            "grid_template_columns": null,
            "flex": null,
            "_model_name": "LayoutModel",
            "justify_items": null,
            "grid_row": null,
            "max_height": null,
            "align_content": null,
            "visibility": null,
            "align_self": null,
            "height": null,
            "min_height": null,
            "padding": null,
            "grid_auto_rows": null,
            "grid_gap": null,
            "max_width": null,
            "order": null,
            "_view_module_version": "1.2.0",
            "grid_template_areas": null,
            "object_position": null,
            "object_fit": null,
            "grid_auto_columns": null,
            "margin": null,
            "display": "inline-flex",
            "left": null
          }
        },
        "949a9f59e0dc4b3793255ab4228296f5": {
          "model_module": "@jupyter-widgets/controls",
          "model_name": "FloatProgressModel",
          "state": {
            "_view_name": "ProgressView",
            "style": "IPY_MODEL_15b06699dcda419192a005062284d8c3",
            "_dom_classes": [],
            "description": "Epoch 4: 100%",
            "_model_name": "FloatProgressModel",
            "bar_style": "success",
            "max": 430,
            "_view_module": "@jupyter-widgets/controls",
            "_model_module_version": "1.5.0",
            "value": 430,
            "_view_count": null,
            "_view_module_version": "1.5.0",
            "orientation": "horizontal",
            "min": 0,
            "description_tooltip": null,
            "_model_module": "@jupyter-widgets/controls",
            "layout": "IPY_MODEL_494be45c88bb4fa9be0118df62f0826c"
          }
        },
        "242e604b79d04a219d41c065cb75847d": {
          "model_module": "@jupyter-widgets/controls",
          "model_name": "HTMLModel",
          "state": {
            "_view_name": "HTMLView",
            "style": "IPY_MODEL_6fc46e7aa96d4e25840f3b59fc9df470",
            "_dom_classes": [],
            "description": "",
            "_model_name": "HTMLModel",
            "placeholder": "​",
            "_view_module": "@jupyter-widgets/controls",
            "_model_module_version": "1.5.0",
            "value": " 430/430 [00:14&lt;00:00, 29.05it/s, loss=0.152, v_num=7z8v]",
            "_view_count": null,
            "_view_module_version": "1.5.0",
            "description_tooltip": null,
            "_model_module": "@jupyter-widgets/controls",
            "layout": "IPY_MODEL_702f6e475aae4eac8bdfbe7a4cdd8703"
          }
        },
        "15b06699dcda419192a005062284d8c3": {
          "model_module": "@jupyter-widgets/controls",
          "model_name": "ProgressStyleModel",
          "state": {
            "_view_name": "StyleView",
            "_model_name": "ProgressStyleModel",
            "description_width": "initial",
            "_view_module": "@jupyter-widgets/base",
            "_model_module_version": "1.5.0",
            "_view_count": null,
            "_view_module_version": "1.2.0",
            "bar_color": null,
            "_model_module": "@jupyter-widgets/controls"
          }
        },
        "494be45c88bb4fa9be0118df62f0826c": {
          "model_module": "@jupyter-widgets/base",
          "model_name": "LayoutModel",
          "state": {
            "_view_name": "LayoutView",
            "grid_template_rows": null,
            "right": null,
            "justify_content": null,
            "_view_module": "@jupyter-widgets/base",
            "overflow": null,
            "_model_module_version": "1.2.0",
            "_view_count": null,
            "flex_flow": null,
            "width": null,
            "min_width": null,
            "border": null,
            "align_items": null,
            "bottom": null,
            "_model_module": "@jupyter-widgets/base",
            "top": null,
            "grid_column": null,
            "overflow_y": null,
            "overflow_x": null,
            "grid_auto_flow": null,
            "grid_area": null,
            "grid_template_columns": null,
            "flex": "2",
            "_model_name": "LayoutModel",
            "justify_items": null,
            "grid_row": null,
            "max_height": null,
            "align_content": null,
            "visibility": null,
            "align_self": null,
            "height": null,
            "min_height": null,
            "padding": null,
            "grid_auto_rows": null,
            "grid_gap": null,
            "max_width": null,
            "order": null,
            "_view_module_version": "1.2.0",
            "grid_template_areas": null,
            "object_position": null,
            "object_fit": null,
            "grid_auto_columns": null,
            "margin": null,
            "display": null,
            "left": null
          }
        },
        "6fc46e7aa96d4e25840f3b59fc9df470": {
          "model_module": "@jupyter-widgets/controls",
          "model_name": "DescriptionStyleModel",
          "state": {
            "_view_name": "StyleView",
            "_model_name": "DescriptionStyleModel",
            "description_width": "",
            "_view_module": "@jupyter-widgets/base",
            "_model_module_version": "1.5.0",
            "_view_count": null,
            "_view_module_version": "1.2.0",
            "_model_module": "@jupyter-widgets/controls"
          }
        },
        "702f6e475aae4eac8bdfbe7a4cdd8703": {
          "model_module": "@jupyter-widgets/base",
          "model_name": "LayoutModel",
          "state": {
            "_view_name": "LayoutView",
            "grid_template_rows": null,
            "right": null,
            "justify_content": null,
            "_view_module": "@jupyter-widgets/base",
            "overflow": null,
            "_model_module_version": "1.2.0",
            "_view_count": null,
            "flex_flow": null,
            "width": null,
            "min_width": null,
            "border": null,
            "align_items": null,
            "bottom": null,
            "_model_module": "@jupyter-widgets/base",
            "top": null,
            "grid_column": null,
            "overflow_y": null,
            "overflow_x": null,
            "grid_auto_flow": null,
            "grid_area": null,
            "grid_template_columns": null,
            "flex": null,
            "_model_name": "LayoutModel",
            "justify_items": null,
            "grid_row": null,
            "max_height": null,
            "align_content": null,
            "visibility": null,
            "align_self": null,
            "height": null,
            "min_height": null,
            "padding": null,
            "grid_auto_rows": null,
            "grid_gap": null,
            "max_width": null,
            "order": null,
            "_view_module_version": "1.2.0",
            "grid_template_areas": null,
            "object_position": null,
            "object_fit": null,
            "grid_auto_columns": null,
            "margin": null,
            "display": null,
            "left": null
          }
        },
        "b98537c4a44b48e1860f5b4a252640c2": {
          "model_module": "@jupyter-widgets/controls",
          "model_name": "HBoxModel",
          "state": {
            "_view_name": "HBoxView",
            "_dom_classes": [],
            "_model_name": "HBoxModel",
            "_view_module": "@jupyter-widgets/controls",
            "_model_module_version": "1.5.0",
            "_view_count": null,
            "_view_module_version": "1.5.0",
            "box_style": "",
            "layout": "IPY_MODEL_e05dc0aa9a614cc8a55eabfb9cdce6fe",
            "_model_module": "@jupyter-widgets/controls",
            "children": [
              "IPY_MODEL_d120e428f81943bb8596dbfcf496771d",
              "IPY_MODEL_24d518276eb6456ebf0b136ba076f19f"
            ]
          }
        },
        "e05dc0aa9a614cc8a55eabfb9cdce6fe": {
          "model_module": "@jupyter-widgets/base",
          "model_name": "LayoutModel",
          "state": {
            "_view_name": "LayoutView",
            "grid_template_rows": null,
            "right": null,
            "justify_content": null,
            "_view_module": "@jupyter-widgets/base",
            "overflow": null,
            "_model_module_version": "1.2.0",
            "_view_count": null,
            "flex_flow": "row wrap",
            "width": "100%",
            "min_width": null,
            "border": null,
            "align_items": null,
            "bottom": null,
            "_model_module": "@jupyter-widgets/base",
            "top": null,
            "grid_column": null,
            "overflow_y": null,
            "overflow_x": null,
            "grid_auto_flow": null,
            "grid_area": null,
            "grid_template_columns": null,
            "flex": null,
            "_model_name": "LayoutModel",
            "justify_items": null,
            "grid_row": null,
            "max_height": null,
            "align_content": null,
            "visibility": null,
            "align_self": null,
            "height": null,
            "min_height": null,
            "padding": null,
            "grid_auto_rows": null,
            "grid_gap": null,
            "max_width": null,
            "order": null,
            "_view_module_version": "1.2.0",
            "grid_template_areas": null,
            "object_position": null,
            "object_fit": null,
            "grid_auto_columns": null,
            "margin": null,
            "display": "inline-flex",
            "left": null
          }
        },
        "d120e428f81943bb8596dbfcf496771d": {
          "model_module": "@jupyter-widgets/controls",
          "model_name": "FloatProgressModel",
          "state": {
            "_view_name": "ProgressView",
            "style": "IPY_MODEL_1fb1830aa929410cb18acf7686df6b0f",
            "_dom_classes": [],
            "description": "Testing: 100%",
            "_model_name": "FloatProgressModel",
            "bar_style": "success",
            "max": 1,
            "_view_module": "@jupyter-widgets/controls",
            "_model_module_version": "1.5.0",
            "value": 1,
            "_view_count": null,
            "_view_module_version": "1.5.0",
            "orientation": "horizontal",
            "min": 0,
            "description_tooltip": null,
            "_model_module": "@jupyter-widgets/controls",
            "layout": "IPY_MODEL_749b4d3dbd844869a16f9119512e4652"
          }
        },
        "24d518276eb6456ebf0b136ba076f19f": {
          "model_module": "@jupyter-widgets/controls",
          "model_name": "HTMLModel",
          "state": {
            "_view_name": "HTMLView",
            "style": "IPY_MODEL_204bcc10544b4c03832db4ab98159784",
            "_dom_classes": [],
            "description": "",
            "_model_name": "HTMLModel",
            "placeholder": "​",
            "_view_module": "@jupyter-widgets/controls",
            "_model_module_version": "1.5.0",
            "value": " 8/8 [00:02&lt;00:00,  3.63it/s]",
            "_view_count": null,
            "_view_module_version": "1.5.0",
            "description_tooltip": null,
            "_model_module": "@jupyter-widgets/controls",
            "layout": "IPY_MODEL_d56e4bd1db0a4fc88d12767cacc0a9f2"
          }
        },
        "1fb1830aa929410cb18acf7686df6b0f": {
          "model_module": "@jupyter-widgets/controls",
          "model_name": "ProgressStyleModel",
          "state": {
            "_view_name": "StyleView",
            "_model_name": "ProgressStyleModel",
            "description_width": "initial",
            "_view_module": "@jupyter-widgets/base",
            "_model_module_version": "1.5.0",
            "_view_count": null,
            "_view_module_version": "1.2.0",
            "bar_color": null,
            "_model_module": "@jupyter-widgets/controls"
          }
        },
        "749b4d3dbd844869a16f9119512e4652": {
          "model_module": "@jupyter-widgets/base",
          "model_name": "LayoutModel",
          "state": {
            "_view_name": "LayoutView",
            "grid_template_rows": null,
            "right": null,
            "justify_content": null,
            "_view_module": "@jupyter-widgets/base",
            "overflow": null,
            "_model_module_version": "1.2.0",
            "_view_count": null,
            "flex_flow": null,
            "width": null,
            "min_width": null,
            "border": null,
            "align_items": null,
            "bottom": null,
            "_model_module": "@jupyter-widgets/base",
            "top": null,
            "grid_column": null,
            "overflow_y": null,
            "overflow_x": null,
            "grid_auto_flow": null,
            "grid_area": null,
            "grid_template_columns": null,
            "flex": "2",
            "_model_name": "LayoutModel",
            "justify_items": null,
            "grid_row": null,
            "max_height": null,
            "align_content": null,
            "visibility": null,
            "align_self": null,
            "height": null,
            "min_height": null,
            "padding": null,
            "grid_auto_rows": null,
            "grid_gap": null,
            "max_width": null,
            "order": null,
            "_view_module_version": "1.2.0",
            "grid_template_areas": null,
            "object_position": null,
            "object_fit": null,
            "grid_auto_columns": null,
            "margin": null,
            "display": null,
            "left": null
          }
        },
        "204bcc10544b4c03832db4ab98159784": {
          "model_module": "@jupyter-widgets/controls",
          "model_name": "DescriptionStyleModel",
          "state": {
            "_view_name": "StyleView",
            "_model_name": "DescriptionStyleModel",
            "description_width": "",
            "_view_module": "@jupyter-widgets/base",
            "_model_module_version": "1.5.0",
            "_view_count": null,
            "_view_module_version": "1.2.0",
            "_model_module": "@jupyter-widgets/controls"
          }
        },
        "d56e4bd1db0a4fc88d12767cacc0a9f2": {
          "model_module": "@jupyter-widgets/base",
          "model_name": "LayoutModel",
          "state": {
            "_view_name": "LayoutView",
            "grid_template_rows": null,
            "right": null,
            "justify_content": null,
            "_view_module": "@jupyter-widgets/base",
            "overflow": null,
            "_model_module_version": "1.2.0",
            "_view_count": null,
            "flex_flow": null,
            "width": null,
            "min_width": null,
            "border": null,
            "align_items": null,
            "bottom": null,
            "_model_module": "@jupyter-widgets/base",
            "top": null,
            "grid_column": null,
            "overflow_y": null,
            "overflow_x": null,
            "grid_auto_flow": null,
            "grid_area": null,
            "grid_template_columns": null,
            "flex": null,
            "_model_name": "LayoutModel",
            "justify_items": null,
            "grid_row": null,
            "max_height": null,
            "align_content": null,
            "visibility": null,
            "align_self": null,
            "height": null,
            "min_height": null,
            "padding": null,
            "grid_auto_rows": null,
            "grid_gap": null,
            "max_width": null,
            "order": null,
            "_view_module_version": "1.2.0",
            "grid_template_areas": null,
            "object_position": null,
            "object_fit": null,
            "grid_auto_columns": null,
            "margin": null,
            "display": null,
            "left": null
          }
        },
        "6a88f074ce39444798c8ce46d8300e16": {
          "model_module": "@jupyter-widgets/controls",
          "model_name": "VBoxModel",
          "state": {
            "_view_name": "VBoxView",
            "_dom_classes": [],
            "_model_name": "VBoxModel",
            "_view_module": "@jupyter-widgets/controls",
            "_model_module_version": "1.5.0",
            "_view_count": null,
            "_view_module_version": "1.5.0",
            "box_style": "",
            "layout": "IPY_MODEL_b7df386159334ec1b6b45c193b744cea",
            "_model_module": "@jupyter-widgets/controls",
            "children": [
              "IPY_MODEL_cf8dfcc79fff48d4b9b5842bc5645332",
              "IPY_MODEL_7495325c8c194215ad78d0869324719e"
            ]
          }
        },
        "b7df386159334ec1b6b45c193b744cea": {
          "model_module": "@jupyter-widgets/base",
          "model_name": "LayoutModel",
          "state": {
            "_view_name": "LayoutView",
            "grid_template_rows": null,
            "right": null,
            "justify_content": null,
            "_view_module": "@jupyter-widgets/base",
            "overflow": null,
            "_model_module_version": "1.2.0",
            "_view_count": null,
            "flex_flow": null,
            "width": null,
            "min_width": null,
            "border": null,
            "align_items": null,
            "bottom": null,
            "_model_module": "@jupyter-widgets/base",
            "top": null,
            "grid_column": null,
            "overflow_y": null,
            "overflow_x": null,
            "grid_auto_flow": null,
            "grid_area": null,
            "grid_template_columns": null,
            "flex": null,
            "_model_name": "LayoutModel",
            "justify_items": null,
            "grid_row": null,
            "max_height": null,
            "align_content": null,
            "visibility": null,
            "align_self": null,
            "height": null,
            "min_height": null,
            "padding": null,
            "grid_auto_rows": null,
            "grid_gap": null,
            "max_width": null,
            "order": null,
            "_view_module_version": "1.2.0",
            "grid_template_areas": null,
            "object_position": null,
            "object_fit": null,
            "grid_auto_columns": null,
            "margin": null,
            "display": null,
            "left": null
          }
        },
        "cf8dfcc79fff48d4b9b5842bc5645332": {
          "model_module": "@jupyter-widgets/controls",
          "model_name": "LabelModel",
          "state": {
            "_view_name": "LabelView",
            "style": "IPY_MODEL_37fcde2558624767b5c980a63d65c70a",
            "_dom_classes": [],
            "description": "",
            "_model_name": "LabelModel",
            "placeholder": "​",
            "_view_module": "@jupyter-widgets/controls",
            "_model_module_version": "1.5.0",
            "value": " 2.09MB of 2.09MB uploaded (0.00MB deduped)\r",
            "_view_count": null,
            "_view_module_version": "1.5.0",
            "description_tooltip": null,
            "_model_module": "@jupyter-widgets/controls",
            "layout": "IPY_MODEL_f58a1f4ed50044f3b3e25be4344adf10"
          }
        },
        "7495325c8c194215ad78d0869324719e": {
          "model_module": "@jupyter-widgets/controls",
          "model_name": "FloatProgressModel",
          "state": {
            "_view_name": "ProgressView",
            "style": "IPY_MODEL_a19344f1320b4be8b3b0d817fb6b5727",
            "_dom_classes": [],
            "description": "",
            "_model_name": "FloatProgressModel",
            "bar_style": "",
            "max": 1,
            "_view_module": "@jupyter-widgets/controls",
            "_model_module_version": "1.5.0",
            "value": 1,
            "_view_count": null,
            "_view_module_version": "1.5.0",
            "orientation": "horizontal",
            "min": 0,
            "description_tooltip": null,
            "_model_module": "@jupyter-widgets/controls",
            "layout": "IPY_MODEL_08f3ebdb366f4bdab43d36656686f8f3"
          }
        },
        "37fcde2558624767b5c980a63d65c70a": {
          "model_module": "@jupyter-widgets/controls",
          "model_name": "DescriptionStyleModel",
          "state": {
            "_view_name": "StyleView",
            "_model_name": "DescriptionStyleModel",
            "description_width": "",
            "_view_module": "@jupyter-widgets/base",
            "_model_module_version": "1.5.0",
            "_view_count": null,
            "_view_module_version": "1.2.0",
            "_model_module": "@jupyter-widgets/controls"
          }
        },
        "f58a1f4ed50044f3b3e25be4344adf10": {
          "model_module": "@jupyter-widgets/base",
          "model_name": "LayoutModel",
          "state": {
            "_view_name": "LayoutView",
            "grid_template_rows": null,
            "right": null,
            "justify_content": null,
            "_view_module": "@jupyter-widgets/base",
            "overflow": null,
            "_model_module_version": "1.2.0",
            "_view_count": null,
            "flex_flow": null,
            "width": null,
            "min_width": null,
            "border": null,
            "align_items": null,
            "bottom": null,
            "_model_module": "@jupyter-widgets/base",
            "top": null,
            "grid_column": null,
            "overflow_y": null,
            "overflow_x": null,
            "grid_auto_flow": null,
            "grid_area": null,
            "grid_template_columns": null,
            "flex": null,
            "_model_name": "LayoutModel",
            "justify_items": null,
            "grid_row": null,
            "max_height": null,
            "align_content": null,
            "visibility": null,
            "align_self": null,
            "height": null,
            "min_height": null,
            "padding": null,
            "grid_auto_rows": null,
            "grid_gap": null,
            "max_width": null,
            "order": null,
            "_view_module_version": "1.2.0",
            "grid_template_areas": null,
            "object_position": null,
            "object_fit": null,
            "grid_auto_columns": null,
            "margin": null,
            "display": null,
            "left": null
          }
        },
        "a19344f1320b4be8b3b0d817fb6b5727": {
          "model_module": "@jupyter-widgets/controls",
          "model_name": "ProgressStyleModel",
          "state": {
            "_view_name": "StyleView",
            "_model_name": "ProgressStyleModel",
            "description_width": "",
            "_view_module": "@jupyter-widgets/base",
            "_model_module_version": "1.5.0",
            "_view_count": null,
            "_view_module_version": "1.2.0",
            "bar_color": null,
            "_model_module": "@jupyter-widgets/controls"
          }
        },
        "08f3ebdb366f4bdab43d36656686f8f3": {
          "model_module": "@jupyter-widgets/base",
          "model_name": "LayoutModel",
          "state": {
            "_view_name": "LayoutView",
            "grid_template_rows": null,
            "right": null,
            "justify_content": null,
            "_view_module": "@jupyter-widgets/base",
            "overflow": null,
            "_model_module_version": "1.2.0",
            "_view_count": null,
            "flex_flow": null,
            "width": null,
            "min_width": null,
            "border": null,
            "align_items": null,
            "bottom": null,
            "_model_module": "@jupyter-widgets/base",
            "top": null,
            "grid_column": null,
            "overflow_y": null,
            "overflow_x": null,
            "grid_auto_flow": null,
            "grid_area": null,
            "grid_template_columns": null,
            "flex": null,
            "_model_name": "LayoutModel",
            "justify_items": null,
            "grid_row": null,
            "max_height": null,
            "align_content": null,
            "visibility": null,
            "align_self": null,
            "height": null,
            "min_height": null,
            "padding": null,
            "grid_auto_rows": null,
            "grid_gap": null,
            "max_width": null,
            "order": null,
            "_view_module_version": "1.2.0",
            "grid_template_areas": null,
            "object_position": null,
            "object_fit": null,
            "grid_auto_columns": null,
            "margin": null,
            "display": null,
            "left": null
          }
        }
      }
    }
  },
  "cells": [
    {
      "cell_type": "markdown",
      "metadata": {
        "id": "view-in-github",
        "colab_type": "text"
      },
      "source": [
        "<a href=\"https://colab.research.google.com/github/JayThibs/Deep-Learning-With-Python-Projects/blob/master/How_to_Use_PyTorch_Lightning.ipynb\" target=\"_parent\"><img src=\"https://colab.research.google.com/assets/colab-badge.svg\" alt=\"Open In Colab\"/></a>"
      ]
    },
    {
      "cell_type": "markdown",
      "metadata": {
        "id": "lu8ktLLf5vBP"
      },
      "source": [
        "# PyTorch Lightning Masterclass"
      ]
    },
    {
      "cell_type": "code",
      "metadata": {
        "id": "kF72yzV24iyW"
      },
      "source": [
        "import torch\n",
        "from torch import nn\n",
        "from torch import optim\n",
        "from torchvision import datasets, transforms\n",
        "from torch.utils.data import random_split\n",
        "from torch.nn import functional as F"
      ],
      "execution_count": null,
      "outputs": []
    },
    {
      "cell_type": "code",
      "metadata": {
        "id": "BPwsvmcj8Axb"
      },
      "source": [
        "%%capture\n",
        "!pip install pytorch_lightning==1.1.4"
      ],
      "execution_count": null,
      "outputs": []
    },
    {
      "cell_type": "markdown",
      "metadata": {
        "id": "IhKCl71qDBp4"
      },
      "source": [
        "------\n",
        "# PyTorch Lightning\n",
        "\n",
        "1. Model\n",
        "2. Optimizer\n",
        "3. Data\n",
        "4. Training Loop \"the magic\"\n",
        "5. Validation Loop \"the validation magic\""
      ]
    },
    {
      "cell_type": "code",
      "metadata": {
        "id": "GvnmAt3PDTuM"
      },
      "source": [
        "import pytorch_lightning as pl\n",
        "from pytorch_lightning.metrics.functional import accuracy\n",
        "\n",
        "class ResNet(pl.LightningModule):\n",
        "  def __init__(self):\n",
        "      super().__init__()\n",
        "      self.l1 = nn.Linear(28 * 28, 64)\n",
        "      self.l2 = nn.Linear(64, 64)\n",
        "      self.l3 = nn.Linear(64, 10)\n",
        "      self.do = nn.Dropout(0.1)\n",
        "      self.loss = nn.CrossEntropyLoss()\n",
        "\n",
        "  def forward(self, x):\n",
        "      h1 = nn.functional.relu(self.l1(x))\n",
        "      h2 = nn.functional.relu(self.l2(h1))\n",
        "      # this part right here increases the training speed of the model, \n",
        "      # it's what we call \"highway networks\", the calcs skip layers\n",
        "      do = self.do(h2 + h1)\n",
        "      logits = self.l3(do)\n",
        "      return logits\n",
        "\n",
        "  def configure_optimizers(self): # this is an added method from pl.LightningModule (not found in nn.Module)\n",
        "      # Define my optimizer\n",
        "      optimizer = optim.SGD(self.parameters(), lr=1e-2)\n",
        "      return optimizer\n",
        "\n",
        "  def training_step(self, batch, batch_idx): # this is an added method from pl.LightningModule (not found in nn.Module)\n",
        "      x, y = batch\n",
        "\n",
        "      b = x.size(0)\n",
        "      x = x.view(b, -1)\n",
        "\n",
        "      logits = self(x)\n",
        "\n",
        "      loss = self.loss(logits, y) # J: this is the loss\n",
        "      preds = torch.argmax(logits, dim=1)\n",
        "      acc = accuracy(preds, y)\n",
        "\n",
        "\n",
        "      # Calling self.log will surface up scalars for you in TensorBoard\n",
        "      self.log('train_loss', loss, prog_bar=True)\n",
        "      self.log('train_acc', acc, prog_bar=True)\n",
        "      return loss\n",
        "\n",
        "  def validation_step(self, batch, batch_idx):\n",
        "      results = self.training_step(batch, batch_idx)\n",
        "      results['progress_bar']['val_acc'] = results['progress_bar']['train_acc']\n",
        "      del results['progress_bar']['train_acc']\n",
        "      return results\n",
        "\n",
        "  def validation_epoch_end(self, val_step_outputs):\n",
        "      avg_val_loss = torch.tensor([x['loss'] for x in outputs]).mean()\n",
        "      avg_val_acc = torch.tensor([x['progress_bar']['val_acc'] for x in outputs]).mean()\n",
        "      \n",
        "      self.log('val_loss', avg_val_loss, prog_bar=True)\n",
        "      self.log('val_acc', avg_val_acc, prog_bar=True)\n",
        "      return {'val_loss': avg_val_loss}\n",
        "\n",
        "  def prepare_data(self):\n",
        "      datasets.MNIST('./data', train=True, download=True, transform=transforms.ToTensor()) # downloading data here\n",
        "\n",
        "  def setup(self): # for multiple gpus\n",
        "      # include (e.g. image) transforms here.\n",
        "\n",
        "      dataset = datasets.MNIST('./data', train=True, download=False, transform=transforms.ToTensor())\n",
        "      self.train, self.val = random_split(train_data, [55000, 5000])\n",
        "\n",
        "  def train_dataloader(self):\n",
        "      # self.train, self.val = random_split(train_data, [55000, 5000]) # use here if not using multiple gpus\n",
        "      train_loader = torch.utils.data.DataLoader(train_data, batch_size=10) # since we have 10 classes, it's actually better to have a batch size of 10\n",
        "      # val_loader = torch.utils.data.DataLoader(val, batch_size=10)\n",
        "      return train_loader\n",
        "\n",
        "  def val_dataloader(self):\n",
        "      val_loader = DataLoader(self.val, batch_size=10)\n",
        "      return val_loader\n",
        "\n",
        "model = ResNet()"
      ],
      "execution_count": null,
      "outputs": []
    },
    {
      "cell_type": "code",
      "metadata": {
        "colab": {
          "base_uri": "https://localhost:8080/",
          "height": 399,
          "referenced_widgets": [
            "e47f34c8b446425aadf566082687616b",
            "030743c235fd49549a8bc6169f708497",
            "82e9cee8215e49bbbfbdaf81791b8f03",
            "8e42e96723d84bfaac7b3e714f16d006",
            "8fd5c5ebaced4c5c90c5c1e0621de208",
            "9da9f3947f624d479e7b962b87e78ba9",
            "75b93a28ba1448b188ccf29556949b28",
            "a86f106b4bed424aa24586779af935da"
          ]
        },
        "id": "PL5Ei1LrHksN",
        "outputId": "4239804b-9aef-4bc2-b13d-c7aa4e106465"
      },
      "source": [
        "# use num_nodes for number of machines on a cluster\n",
        "# So, if you have gpus=8 and num_nodes=32, that means you are training across 8*32 total gpus.\n",
        "# Need to include in your \"SLURM\" script that you are using 8*32, PL will do the rest.\n",
        "# Make sure to include the \"setup\" method in your class model to make sure the data is only\n",
        "# downloaded once for all gpus and machines.\n",
        "trainer = pl.Trainer(progress_bar_refresh_rate=20, max_epochs=5, gpus=1)\n",
        "trainer.fit(model)"
      ],
      "execution_count": null,
      "outputs": [
        {
          "output_type": "stream",
          "text": [
            "GPU available: True, used: True\n",
            "TPU available: None, using: 0 TPU cores\n",
            "LOCAL_RANK: 0 - CUDA_VISIBLE_DEVICES: [0]\n",
            "\n",
            "  | Name | Type             | Params\n",
            "------------------------------------------\n",
            "0 | l1   | Linear           | 50.2 K\n",
            "1 | l2   | Linear           | 4.2 K \n",
            "2 | l3   | Linear           | 650   \n",
            "3 | do   | Dropout          | 0     \n",
            "4 | loss | CrossEntropyLoss | 0     \n",
            "------------------------------------------\n",
            "55.1 K    Trainable params\n",
            "0         Non-trainable params\n",
            "55.1 K    Total params\n",
            "/usr/local/lib/python3.7/dist-packages/pytorch_lightning/utilities/distributed.py:49: UserWarning: The dataloader, train dataloader, does not have many workers which may be a bottleneck. Consider increasing the value of the `num_workers` argument` (try 4 which is the number of cpus on this machine) in the `DataLoader` init to improve performance.\n",
            "  warnings.warn(*args, **kwargs)\n"
          ],
          "name": "stderr"
        },
        {
          "output_type": "display_data",
          "data": {
            "application/vnd.jupyter.widget-view+json": {
              "model_id": "e47f34c8b446425aadf566082687616b",
              "version_minor": 0,
              "version_major": 2
            },
            "text/plain": [
              "HBox(children=(FloatProgress(value=1.0, bar_style='info', description='Training', layout=Layout(flex='2'), max…"
            ]
          },
          "metadata": {
            "tags": []
          }
        },
        {
          "output_type": "stream",
          "text": [
            "\n"
          ],
          "name": "stdout"
        },
        {
          "output_type": "execute_result",
          "data": {
            "text/plain": [
              "1"
            ]
          },
          "metadata": {
            "tags": []
          },
          "execution_count": 9
        }
      ]
    },
    {
      "cell_type": "code",
      "metadata": {
        "colab": {
          "base_uri": "https://localhost:8080/"
        },
        "id": "WP-ffMa9I3QN",
        "outputId": "4f437373-ed01-4687-891c-36c9c755d267"
      },
      "source": [
        "!ls lightning_logs/version_2/checkpoints # best saved checkpoint"
      ],
      "execution_count": null,
      "outputs": [
        {
          "output_type": "stream",
          "text": [
            "'epoch=4-step=29999.ckpt'\n"
          ],
          "name": "stdout"
        }
      ]
    },
    {
      "cell_type": "code",
      "metadata": {
        "id": "YMgCkc2I5Iyl"
      },
      "source": [
        "# # Define a simple model\n",
        "# model = nn.Sequential(\n",
        "#     nn.Linear(28 * 28, 64),\n",
        "#     nn.ReLU(),\n",
        "#     nn.Linear(64, 64),\n",
        "#     nn.ReLU(),\n",
        "#     nn.Linear(64, 10)\n",
        "# )"
      ],
      "execution_count": null,
      "outputs": []
    },
    {
      "cell_type": "code",
      "metadata": {
        "id": "Av-z79KbVzkh"
      },
      "source": [
        "#  # Define a more flexible model\n",
        "\n",
        "# class ResNet(nn.Module):\n",
        "#   def __init__(self):\n",
        "#     super().__init__()\n",
        "#     self.l1 = nn.Linear(28 * 28, 64)\n",
        "#     self.l2 = nn.Linear(64, 64)\n",
        "#     self.l3 = nn.Linear(64, 10)\n",
        "#     self.do = nn.Dropout(0.1)\n",
        "\n",
        "#   def forward(self, x):\n",
        "#     h1 = nn.functional.relu(self.l1(x))\n",
        "#     h2 = nn.functional.relu(self.l2(h1))\n",
        "#     # this part right here increases the training speed of the model, \n",
        "#     # it's what we call \"highway networks\", the calcs skip layers\n",
        "#     do = self.do(h2 + h1)\n",
        "#     logits = self.l3(do)\n",
        "#     return logits\n",
        "\n",
        "# model = ResNet().cuda() # .cuda() to send the model to gpu"
      ],
      "execution_count": null,
      "outputs": []
    },
    {
      "cell_type": "code",
      "metadata": {
        "id": "ZqNN9isl5edc"
      },
      "source": [
        "# # Define my optimizer\n",
        "# params = model.parameters()\n",
        "# optimizer = optim.SGD(model.parameters(), lr=1e-2)"
      ],
      "execution_count": null,
      "outputs": []
    },
    {
      "cell_type": "code",
      "metadata": {
        "id": "DFH225wh6Dkz"
      },
      "source": [
        "# # Define my loss\n",
        "# loss = nn.CrossEntropyLoss()"
      ],
      "execution_count": null,
      "outputs": []
    },
    {
      "cell_type": "code",
      "metadata": {
        "id": "RGL4FGw-8n4m"
      },
      "source": [
        "# # train, val split\n",
        "# train_data = datasets.MNIST('./data', train=True, download=True, transform=transforms.ToTensor())\n",
        "# train, val = random_split(train_data, [55000, 5000])\n",
        "# train_loader = torch.utils.data.DataLoader(train, batch_size=10) # since we have 10 classes, it's actually better to have a batch size of 10\n",
        "# val_loader = torch.utils.data.DataLoader(val, batch_size=10)"
      ],
      "execution_count": null,
      "outputs": []
    },
    {
      "cell_type": "code",
      "metadata": {
        "id": "X6aD5J5G6Tsp",
        "colab": {
          "base_uri": "https://localhost:8080/"
        },
        "outputId": "3191e5f2-99a3-4416-c4d2-84182d794241"
      },
      "source": [
        "# # My training loop\n",
        "# nb_epochs = 5\n",
        "# for epoch in range(nb_epochs):\n",
        "#   losses = list()\n",
        "#   accuracies = list()\n",
        "#   model.train() # because we use Dropout\n",
        "#   for batch in train_loader:\n",
        "#     x, y = batch\n",
        "\n",
        "#     # x size: b * 1 * 28 * 28\n",
        "#     b = x.size(0)\n",
        "#     x = x.view(b, -1).cuda() # reshape image to vector (aka flatten)\n",
        "\n",
        "#     # 1. forward\n",
        "#     logits = model(x) # logit is the output of the last layer in your model\n",
        "\n",
        "#     # import pdb; pdb.set_trace()\n",
        "\n",
        "#     # 2. computer the objective function\n",
        "#     J = loss(logits, y.cuda()) # J is the objective function\n",
        "\n",
        "#     # 3. Cleaning the gradients\n",
        "#     model.zero_grad()\n",
        "#     # or optimizer.zero_grad()\n",
        "#     # params.grad.zero_()\n",
        "\n",
        "\n",
        "#     # 4. Accumulate the partial derivatives of J wrt parameters (wrt mean \"with respect to\")\n",
        "#     J.backward() # accumulates the new gradients to the previous one\n",
        "#     # params.grad.add_(dJ/dparams)\n",
        "\n",
        "#     # 5. step in the opposite direction of the gradient\n",
        "#     optimizer.step()\n",
        "#     # in the optimizer step, we are basically doing:\n",
        "#     # with torch.no_grad(): params = params - eta * params.grad\n",
        "#     # Meaning, don't make any computational graph here\n",
        "\n",
        "#     losses.append(J.item())\n",
        "#     accuracies.append(y.eq(logits.detach().argmax(dim=1).cpu()).float().mean())\n",
        "\n",
        "#   print(f'Epoch {epoch + 1}', end=', ')\n",
        "#   print(f'Validation loss: {torch.tensor(losses).mean():.2f}', end=', ')\n",
        "#   print(f'Validation accuracy: {torch.tensor(accuracies).mean():.2f}')\n",
        "\n",
        "#   losses = list()\n",
        "#   accuracies = list()\n",
        "#   model.eval()\n",
        "\n",
        "#   for batch in val_loader:\n",
        "#     x, y = batch\n",
        "\n",
        "#     # x size: b * 1 * 28 * 28\n",
        "#     b = x.size(0)\n",
        "#     x = x.view(b, -1).cuda()\n",
        "\n",
        "#     # 1. forward\n",
        "#     with torch.no_grad(): # only compute the final output, do not keep track of gradients and computational graphs\n",
        "#       logits = model(x) # logit is the output of the last layer in your model\n",
        "\n",
        "#     # 2. computer the objective function\n",
        "#     J = loss(logits, y.cuda()) # J is the objective function\n",
        "\n",
        "#     losses.append(J.item())\n",
        "#     accuracies.append(y.eq(logits.detach().argmax(dim=1).cpu()).float().mean())\n",
        "\n",
        "#   print(f'Epoch {epoch + 1}', end=', ')\n",
        "#   print(f'Validation loss: {torch.tensor(losses).mean():.2f}', end=', ')\n",
        "#   print(f'Validation accuracy: {torch.tensor(accuracies).mean():.2f}')"
      ],
      "execution_count": null,
      "outputs": [
        {
          "output_type": "stream",
          "text": [
            "Epoch 1, Validation loss: 0.51, Validation accuracy: 0.86\n",
            "Epoch 1, Validation loss: 0.25, Validation accuracy: 0.92\n",
            "Epoch 2, Validation loss: 0.25, Validation accuracy: 0.93\n",
            "Epoch 2, Validation loss: 0.18, Validation accuracy: 0.94\n",
            "Epoch 3, Validation loss: 0.19, Validation accuracy: 0.95\n",
            "Epoch 3, Validation loss: 0.15, Validation accuracy: 0.95\n",
            "Epoch 4, Validation loss: 0.15, Validation accuracy: 0.96\n",
            "Epoch 4, Validation loss: 0.12, Validation accuracy: 0.96\n",
            "Epoch 5, Validation loss: 0.13, Validation accuracy: 0.96\n",
            "Epoch 5, Validation loss: 0.11, Validation accuracy: 0.96\n"
          ],
          "name": "stdout"
        }
      ]
    },
    {
      "cell_type": "markdown",
      "metadata": {
        "id": "DXKGh30w3zFd"
      },
      "source": [
        "# Implementing a PyTorch Trainer"
      ]
    },
    {
      "cell_type": "code",
      "metadata": {
        "id": "F1KwAUxFCiJM"
      },
      "source": [
        "%%capture\n",
        "!pip  install pytorch-lightning"
      ],
      "execution_count": null,
      "outputs": []
    },
    {
      "cell_type": "code",
      "metadata": {
        "id": "ehCHdhMO4iGJ"
      },
      "source": [
        "import torch\n",
        "from torch import nn\n",
        "import pytorch_lightning as pl\n",
        "from torchvision.datasets import MNIST\n",
        "from torch.optim import Adam"
      ],
      "execution_count": null,
      "outputs": []
    },
    {
      "cell_type": "code",
      "metadata": {
        "id": "9ka86rFF5s6q"
      },
      "source": [
        "# for access to MNIST via CloudFlare protect\n",
        "from six.moves import urllib\n",
        "opener = urllib.request.build_opener()\n",
        "opener.addheaders = [('User-agent', 'Mozilla/5.0')]\n",
        "urllib.request.install_opener(opener)"
      ],
      "execution_count": null,
      "outputs": []
    },
    {
      "cell_type": "code",
      "metadata": {
        "id": "RyP4OnET4qhT"
      },
      "source": [
        "train_loader = MNIST('', download=True)\n",
        "encoder = nn.Linear(28*28, 10)\n",
        "optimizer = Adam(encoder.parameters())"
      ],
      "execution_count": null,
      "outputs": []
    },
    {
      "cell_type": "code",
      "metadata": {
        "id": "yEyY0NLNcdWz"
      },
      "source": [
        "class NormCallback(pl.Callback):\n",
        "\n",
        "  def on_batch_start(self, trainer, pl_module, batch, batch_idx, dataloader_idx):\n",
        "    torch.norm(model.encoder.weights.grad, 2)"
      ],
      "execution_count": null,
      "outputs": []
    },
    {
      "cell_type": "code",
      "metadata": {
        "id": "kWbNDZPW5B99"
      },
      "source": [
        "class Trainer:\n",
        "  def __init__(max_epochs=10, callback=None): # we use callbacks=None because it is bad practice to put a list in an init\n",
        "    self.max_epochs = max_epochs\n",
        "    if callbacks is None:\n",
        "      self.callbacks = []\n",
        "\n",
        "  def fit(self, model, train_loader):\n",
        "    self._train(model, train_loader)\n",
        "\n",
        "  def on_after_backward(self): # from our NormCallback class\n",
        "    model.on_after_backward() # hook from model\n",
        "    for cb in self.callbacks():\n",
        "      cb.on_after_backward() # hook from callback\n",
        "\n",
        "  def _train(self, model, train_loader):\n",
        "\n",
        "    batch_idx = 0\n",
        "    dataloader_idx = 0\n",
        "\n",
        "    for epoch in range(self.max_epochs):\n",
        "      for batch in train_loader:\n",
        "        # hook_1 = hook_1(hook_variables) # example hook\n",
        "\n",
        "        x, y = batch\n",
        "\n",
        "        loss = model.training_step(self, batch, batch_idx)\n",
        "        loss.backward()\n",
        "\n",
        "        self.on_after_backward(self, model, batch, batch_idx, dataload_idx) # from our NormCallback class\n",
        "\n",
        "        optimizer.step()\n",
        "        optimizer.zero_grad()\n",
        "\n",
        "        batch_idx += 1"
      ],
      "execution_count": null,
      "outputs": []
    },
    {
      "cell_type": "code",
      "metadata": {
        "id": "sQCT7dh__jFG"
      },
      "source": [
        "# Here's the model we put in the Trainer, and we include the hooks like \"on_batch_start\" and \"training_step\"\n",
        "class LitModel(pl.LightningModule):\n",
        "  def __init__(self):\n",
        "    self.encoder = nn.Linear(28*28, 10)\n",
        "\n",
        "  def forward(self): # for inference/predictions\n",
        "    return self.encoder(x)\n",
        "\n",
        "  def training_step(self, batch, batch_ids):\n",
        "    x = x.view(x.size(0), -1)\n",
        "    logit = self.encoder(x)\n",
        "    loss = cross_entropy(logit, y)\n",
        "    loss.backward()\n",
        "    return loss\n",
        "\n",
        "  def on_batch_start(self, batch):\n",
        "    return (1, 2)"
      ],
      "execution_count": null,
      "outputs": []
    },
    {
      "cell_type": "code",
      "metadata": {
        "id": "1Kiez2aO6dlb"
      },
      "source": [
        "cb = NormCallback()\n",
        "trainer = Trainer(max_epochs=10, callbacks=[cb])\n",
        "trainer.fit(encoder, train_loader, optimizer)"
      ],
      "execution_count": null,
      "outputs": []
    },
    {
      "cell_type": "markdown",
      "metadata": {
        "id": "bYKa2joD7y1p"
      },
      "source": [
        "## What's a hook?\n",
        "\n",
        "Imagine this is your programs training process:\n",
        "\n",
        "START ------(HOOK 1)-----------(HOOK 2)---------------- ENDS\n",
        "\n",
        "A hook lets you do something during the training process.\n",
        "\n",
        "So what you do is that you create a method inside your Model class and you are able to call it during the training process. It helps make your code more reusable because you are able to simply call methods/function in your training loop.\n",
        "\n",
        "Let's say you want to print a statement or calculate some type of number, you can just call it from your model instead of writing it all in your training loop.\n",
        "\n",
        "The model can have hooks, but our callback class can also have hooks.\n",
        "\n",
        "## What's a callback?\n",
        "\n",
        "A callback is a term from the software engineering world. You can think of it as if you are sending something to a website and you are \"waiting for it to call back to you.\" \n",
        "\n",
        "\"Is any executable code that is passes as an argument to other code, that other code is expected to call back (execute) the argument at a given time.\"\n",
        "\n",
        "Maybe you need to log something for your research and log the loss. Or maybe inspect your gradients. Or take the norm of the weight (torch.norm(encoder.weights.grad, 2))).\n",
        "\n",
        "Instead of putting it in your training loop, you simply create a class for your callback. Inside the callback, you will be placing all of your hooks, there can be many!\n",
        "\n",
        "A hook in your callback can be as simple as a message saying that your training has started to something like logging loss."
      ]
    },
    {
      "cell_type": "code",
      "metadata": {
        "id": "09iM8gOHaK1K"
      },
      "source": [
        "class MyCallback(pl.Callback):\n",
        "  def hook1()"
      ],
      "execution_count": null,
      "outputs": []
    },
    {
      "cell_type": "markdown",
      "metadata": {
        "id": "UEi4HZ9YX5lR"
      },
      "source": [
        "# Integrate Weights & Biases with PyTorch\n",
        "\n",
        "Use W&B for machine learning experiment tracking, dataset versioning, and project collaboration.\n",
        "\n",
        "This section shows you how to integrate W&B with your PyTorch code to add experiment tracking to your pipeline. That includes:\n",
        "\n",
        "1. Storing hyperparameters and metadata in a config.\n",
        "2. Tracking your model with wandb.watch to automatically log model gradients and parameters. We'll also grab a bunch of system metrics, like GPU and CPU utilization.\n",
        "3. Using the wandb.log API to log everything else, like the loss.\n",
        "4. Saving you model in Netron-compatible format so it can be viewed on W&B.\n",
        "\n",
        "## Install, Import, and Log In\n",
        "\n"
      ]
    },
    {
      "cell_type": "code",
      "metadata": {
        "id": "wdUY_jDSYEjH"
      },
      "source": [
        "import random\n",
        "\n",
        "import numpy as np\n",
        "import torch\n",
        "import torch.nn as nn\n",
        "import torchvision\n",
        "import torchvision.transforms as transforms\n",
        "from tqdm.notebook import tqdm\n",
        "\n",
        "# Ensure deterministic behavior\n",
        "torch.backends.cudnn.deterministic = True\n",
        "random.seed(hash(\"setting random seeds\") % 2**32 - 1)\n",
        "np.random.seed(hash(\"improves reproducibility\") % 2**32 - 1)\n",
        "torch.manual_seed(hash(\"by removing stochasticity\") % 2**32 - 1)\n",
        "torch.cuda.manual_seed_all(hash(\"so runs are repeatable\") % 2**32 - 1)\n",
        "\n",
        "# Device configuration\n",
        "device = torch.device('cuda:0' if torch.cuda.is_available() else 'cpu')\n",
        "\n",
        "# To make MNIST downloadable from Yann's Cloudflare blockage\n",
        "from six.moves import urllib\n",
        "opener = urllib.request.build_opener()\n",
        "opener.addheaders = [('User-agent', 'Mozilla/5.0')]\n",
        "urllib.request.install_opener(opener)"
      ],
      "execution_count": null,
      "outputs": []
    },
    {
      "cell_type": "markdown",
      "metadata": {
        "id": "Fs5n8JNoawpD"
      },
      "source": [
        "### Step 0: Install W&B"
      ]
    },
    {
      "cell_type": "code",
      "metadata": {
        "id": "Pvn4CsPoa0Q7"
      },
      "source": [
        "%%capture\n",
        "!pip install wandb --upgrade"
      ],
      "execution_count": null,
      "outputs": []
    },
    {
      "cell_type": "markdown",
      "metadata": {
        "id": "ETsSCm57a-PB"
      },
      "source": [
        "Step 1: Import W&B and Login\n",
        "\n",
        "In order to log data to our web service, you'll ne to log in.\n",
        "\n",
        "If this is your first time using W&B, you'll need to sign up for a free account at the link that appears."
      ]
    },
    {
      "cell_type": "code",
      "metadata": {
        "colab": {
          "base_uri": "https://localhost:8080/",
          "height": 69
        },
        "id": "-Rv_St3fa5xm",
        "outputId": "d1dc1f54-f035-47eb-8352-f912b003f66e"
      },
      "source": [
        "import wandb\n",
        "\n",
        "wandb.login()"
      ],
      "execution_count": null,
      "outputs": [
        {
          "output_type": "display_data",
          "data": {
            "application/javascript": [
              "\n",
              "        window._wandbApiKey = new Promise((resolve, reject) => {\n",
              "            function loadScript(url) {\n",
              "            return new Promise(function(resolve, reject) {\n",
              "                let newScript = document.createElement(\"script\");\n",
              "                newScript.onerror = reject;\n",
              "                newScript.onload = resolve;\n",
              "                document.body.appendChild(newScript);\n",
              "                newScript.src = url;\n",
              "            });\n",
              "            }\n",
              "            loadScript(\"https://cdn.jsdelivr.net/npm/postmate/build/postmate.min.js\").then(() => {\n",
              "            const iframe = document.createElement('iframe')\n",
              "            iframe.style.cssText = \"width:0;height:0;border:none\"\n",
              "            document.body.appendChild(iframe)\n",
              "            const handshake = new Postmate({\n",
              "                container: iframe,\n",
              "                url: 'https://wandb.ai/authorize'\n",
              "            });\n",
              "            const timeout = setTimeout(() => reject(\"Couldn't auto authenticate\"), 5000)\n",
              "            handshake.then(function(child) {\n",
              "                child.on('authorize', data => {\n",
              "                    clearTimeout(timeout)\n",
              "                    resolve(data)\n",
              "                });\n",
              "            });\n",
              "            })\n",
              "        });\n",
              "    "
            ],
            "text/plain": [
              "<IPython.core.display.Javascript object>"
            ]
          },
          "metadata": {
            "tags": []
          }
        },
        {
          "output_type": "stream",
          "text": [
            "\u001b[34m\u001b[1mwandb\u001b[0m: Appending key for api.wandb.ai to your netrc file: /root/.netrc\n"
          ],
          "name": "stderr"
        },
        {
          "output_type": "execute_result",
          "data": {
            "text/plain": [
              "True"
            ]
          },
          "metadata": {
            "tags": []
          },
          "execution_count": 3
        }
      ]
    },
    {
      "cell_type": "markdown",
      "metadata": {
        "id": "LWuwHdu_dW5a"
      },
      "source": [
        "## Define the Pipeline\n",
        "\n",
        "### Step 2: Track metadata and hyperparameters with wandb.init\n",
        "\n",
        "Programmatically, the first thing we do is define our experiment:\n",
        "what are the hyperparameters? what metadata is associated with this run?\n",
        "\n",
        "It's a pretty common workflow to store this information in a `config` dictionary\n",
        "(or similar object)\n",
        "and then access it as needed.\n",
        "\n",
        "For this example, we're only letting a few hyperparameters vary\n",
        "and hand-coding the rest.\n",
        "But any part of your model can be part of the `config`!\n",
        "\n",
        "We also include some metadata: we're using the MNIST dataset and a convolutional\n",
        "architecture. If we later work with, say,\n",
        "fully-connected architectures on CIFAR in the same project,\n",
        "this will help us separate our runs."
      ]
    },
    {
      "cell_type": "code",
      "metadata": {
        "id": "17VWk0icbvZt"
      },
      "source": [
        "# this could be done with a yaml file or other approaches, here we use a dictionary.\n",
        "\n",
        "config = dict(\n",
        "    epochs = 5,\n",
        "    classes = 10,\n",
        "    kernels = [16, 32],\n",
        "    batch_size = 128,\n",
        "    learning_rate = 0.005,\n",
        "    dataset = 'MNIST',\n",
        "    architecture = 'CNN'\n",
        ")"
      ],
      "execution_count": null,
      "outputs": []
    },
    {
      "cell_type": "markdown",
      "metadata": {
        "id": "03jS3E75e7mj"
      },
      "source": [
        "Now, let's define the overall pipeline, which is pretty typical for model-training:\n",
        "\n",
        "1. we first `make` a model, plus associated data and optimizer, then\n",
        "2. we `train` the model accordingly and finally\n",
        "3. `test` it to see how training went.\n",
        "\n",
        "We'll implement these functions below."
      ]
    },
    {
      "cell_type": "code",
      "metadata": {
        "id": "FOQFrC7pe2sf"
      },
      "source": [
        "# For this tutorial, we are using pure PyTorch and not not PyTorch Lightning.\n",
        "# Therefore, we need to list things off one by one, instead of having PL's boilerplate code.\n",
        "\n",
        "def model_pipeline(hyperparameters):\n",
        "\n",
        "  # with block is a context manager. It ensures that even if your code has an error/runs into an issue,\n",
        "  # everything we use within it will get undone if there's an issue.\n",
        "  # This is why we use it when opening files, we don't want to leave the file open if there's an error.\n",
        "  # tell wandb to get started\n",
        "  with wandb.init(project='pytorch-lit-mnist-test', config=hyperparameters):\n",
        "    # access all hyperparameters through wandb.config, so logging matches execution!\n",
        "    config = wandb.config\n",
        "\n",
        "    ## Need to implement the following functions: make(), train(), and test().\n",
        "\n",
        "    # make the model, data, and optimization problem\n",
        "    model, train_loader, test_loader, criterion, optimizer = make(config)\n",
        "    print(model)\n",
        "\n",
        "    # and use them to train the model\n",
        "    train(model, train_loader, criterion, optimizer, config)\n",
        "\n",
        "    # and test its final performances\n",
        "    test(model, test_loader)\n",
        "\n",
        "  return model"
      ],
      "execution_count": null,
      "outputs": []
    },
    {
      "cell_type": "markdown",
      "metadata": {
        "id": "1qBClzTdg0Ms"
      },
      "source": [
        "The only difference here from a standard pipeline\n",
        "is that it all occurs inside the context of `wandb.init`.\n",
        "Calling this function sets up a line of communication\n",
        "between your code and our servers.\n",
        "\n",
        "Passing the `config` dictionary to `wandb.init`\n",
        "immediately logs all that information to us,\n",
        "so you'll always know what hyperparameter values\n",
        "you set your experiment to use.\n",
        "\n",
        "To ensure the values you chose and logged are always the ones that get used\n",
        "in your model, we recommend using the `wandb.config` copy of your object.\n",
        "Check the definition of `make` below to see some examples.\n",
        "\n",
        "> *Side Note*: We take care to run our code in separate processes,\n",
        "so that any issues on our end\n",
        "(e.g. a giant sea monster attacks our data centers)\n",
        "don't crash your code.\n",
        "Once the issue is resolved (e.g. the Kraken returns to the deep)\n",
        "you can log the data with `wandb sync`."
      ]
    },
    {
      "cell_type": "code",
      "metadata": {
        "id": "mhwVZmi7gzFr"
      },
      "source": [
        "# This is the same classic PyTorch we would use, except that we will be using the\n",
        "# config file to input all our hyperparameters.\n",
        "\n",
        "def make(config):\n",
        "  # Make the data\n",
        "  train, test = get_data(train=True), get_data(train=False)\n",
        "  train_loader = make_loader(train, batch_size=config.batch_size)\n",
        "  test_loader = make_loader(test, batch_size=config.batch_size)\n",
        "\n",
        "  # Make the model\n",
        "  model = ConvNet(config.kernels, config.classes).to(device)\n",
        "\n",
        "  # Make the loss and optimizer\n",
        "  criterion = nn.CrossEntropyLoss()\n",
        "  optimizer = torch.optim.Adam(\n",
        "      model.parameters(), lr=config.learning_rate\n",
        "  )\n",
        "\n",
        "  return model, train_loader, test_loader, criterion, optimizer"
      ],
      "execution_count": null,
      "outputs": []
    },
    {
      "cell_type": "markdown",
      "metadata": {
        "id": "KnmJTC9vk7MI"
      },
      "source": [
        "## Define the Data Loading and Model\n",
        "\n",
        "Now, we need to specify how the data is loaded and what the model looks like.\n",
        "\n",
        "This part is very important, but it's no different from what it would be without wandb, so we won't dwell on it."
      ]
    },
    {
      "cell_type": "code",
      "metadata": {
        "id": "B98rYIe6lOYT"
      },
      "source": [
        "# Functions for loading the data with PyTorch. Pure PyTorch, no different with wandb.\n",
        "\n",
        "def get_data(slice=5, train=True):\n",
        "\n",
        "  # Download dataset\n",
        "\n",
        "  full_dataset = torchvision.datasets.MNIST(root='.',\n",
        "                                            train=train,\n",
        "                                            transform=transforms.ToTensor(),\n",
        "                                            download=True)\n",
        "  # equivalent to slicing with [::slice]\n",
        "  sub_dataset = torch.utils.data.Subset(\n",
        "      full_dataset, indices=range(0, len(full_dataset), slice)\n",
        "  )\n",
        "  \n",
        "  return sub_dataset\n",
        "\n",
        "# making the data loader\n",
        "\n",
        "def make_loader(dataset, batch_size):\n",
        "  loader = torch.utils.data.DataLoader(dataset=dataset,\n",
        "                                      batch_size=batch_size,\n",
        "                                      shuffle=True,\n",
        "                                      pin_memory=True, num_workers=8)\n",
        "  return loader"
      ],
      "execution_count": null,
      "outputs": []
    },
    {
      "cell_type": "markdown",
      "metadata": {
        "id": "KPqhMvKnmoIK"
      },
      "source": [
        "Defining the model is normally the fun part!\n",
        "\n",
        "But nothing changes with `wandb`,\n",
        "so we're gonna stick with a standard ConvNet architecture.\n",
        "\n",
        "Don't be afraid to mess around with this and try some experiments --\n",
        "all your results will be logged on [wandb.ai](https://wandb.ai)!"
      ]
    },
    {
      "cell_type": "code",
      "metadata": {
        "id": "onmLCzY3miru"
      },
      "source": [
        "# Conventional and convolutional neural network\n",
        "\n",
        "class ConvNet(nn.Module):\n",
        "  def __init__(self, kernels, classes=10):\n",
        "    super().__init__()\n",
        "\n",
        "    self.layer1 = nn.Sequential(\n",
        "        nn.Conv2d(1, kernels[0], kernel_size=5, stride=1, padding=2),\n",
        "        nn.ReLU(),\n",
        "        nn.MaxPool2d(kernel_size=2, stride=2)\n",
        "    )\n",
        "    self.layer2 = nn.Sequential(\n",
        "        nn.Conv2d(16, kernels[1], kernel_size=5, stride=1, padding=2),\n",
        "        nn.ReLU(),\n",
        "        nn.MaxPool2d(kernel_size=2, stride=2)\n",
        "    )\n",
        "    self.fc = nn.Linear(7 * 7 * kernels[-1], classes)\n",
        "\n",
        "  def forward(self, x):\n",
        "    x = self.layer1(x)\n",
        "    x = self.layer2(x)\n",
        "    x = x.reshape(x.size(0), -1)\n",
        "    x = self.fc(x)\n",
        "    return x"
      ],
      "execution_count": null,
      "outputs": []
    },
    {
      "cell_type": "markdown",
      "metadata": {
        "id": "Z192bYXprhKL"
      },
      "source": [
        "## Define Training Logic\n",
        "\n",
        "Moving on in our `model_pipeline`, it's time to specify how we `train`.\n",
        "\n",
        "Two `wandb` functions come into play here: `watch` and `log`.\n",
        "\n",
        "### Step 3: Track gradients with wandb.watch and everything else with wandb.log\n",
        "\n",
        "`wandb.watch` will log the gradients and the parameters of your model,\n",
        "every `log_freq` steps of training.\n",
        "\n",
        "All you need to do is call it before you start training.\n",
        "\n",
        "The rest of the training code remains the same:\n",
        "we iterate over epochs and batches,\n",
        "running forward and backward passes\n",
        "and applying our `optimizer`."
      ]
    },
    {
      "cell_type": "code",
      "metadata": {
        "id": "vfXH-sYOpGzs"
      },
      "source": [
        "def train(model, loader, criterion, optimizer, config):\n",
        "  # tell wandb to watch what the model gets up to: gradients, weights, and more!\n",
        "  wandb.watch(model, criterion, log='all', log_freq=10) # we're about to start training the model, wandb, pls watch the model\n",
        "\n",
        "  # Run training and track with wandb\n",
        "  total_batches = len(loader) * config.epochs\n",
        "  example_ct = 0 # number of examples seen\n",
        "  batch_ct = 0\n",
        "  for epoch in tqdm(range(config.epochs)):\n",
        "    for _, (images, labels) in enumerate(loader):\n",
        "\n",
        "      loss = train_batch(images, labels, model, optimizer, criterion) # where we do the training, defined below\n",
        "      example_ct += len(images)\n",
        "      batch_ct += 1\n",
        "\n",
        "      # Report metrics every 25th batch\n",
        "      # Since we use example\n",
        "      if ((batch_ct + 1) % 25) == 0:\n",
        "        train_log(loss, example_ct, epoch) # defined in next code cell, included because of wandb\n",
        "\n",
        "def train_batch(images, labels, model, optimizer, criterion):\n",
        "  images, labels = images.to(device), labels.to(device)\n",
        "\n",
        "  # Forward pass\n",
        "  outputs = model(images)\n",
        "  loss = criterion(outputs, labels)\n",
        "\n",
        "  # Backward pass\n",
        "  optimizer.zero_grad()\n",
        "  loss.backward()\n",
        "\n",
        "  # Step with optimizer\n",
        "  optimizer.step()\n",
        "\n",
        "  return loss"
      ],
      "execution_count": null,
      "outputs": []
    },
    {
      "cell_type": "markdown",
      "metadata": {
        "id": "S2chmSKnwzHg"
      },
      "source": [
        "The only difference is in the logging code: where previously you might have reported metrics by printing to the terminal, now you pass the same information to `wandb.log`.\n",
        "\n",
        "`wandb.log` expects a dictionary with strings as keys.\n",
        "These strings identify the objects being logged, which make up the values.\n",
        "You can also optionally log which `step` of training you're on.\n",
        "\n",
        "> *Side Note*: I like to use the number of examples the model has seen,\n",
        "since this makes for easier comparison across batch sizes,\n",
        "but you can use raw steps or batch count. For longer training runs, it can also make sense to log by `epoch`."
      ]
    },
    {
      "cell_type": "code",
      "metadata": {
        "id": "MkeOWnWKvcko"
      },
      "source": [
        "# example_ct is the number of images that our neural network has seen\n",
        "# every step (which doesn't need to be 1), we're telling wandb to log the following\n",
        "\n",
        "def train_log(loss, example_ct, epoch):\n",
        "  loss = float(loss)\n",
        "\n",
        "  # where the magic happens\n",
        "  # in log, you can store more than just numbers. You can also story data like\n",
        "  # video, audio, 3D objects, images\n",
        "  wandb.log({'epoch': epoch, 'loss': loss}, step = example_ct) # step means we log for every example_ct here, but could be epoch\n",
        "  print(f'Loss after ' + str(example_ct).zfill(5) + f' examples: {loss:.3f}')"
      ],
      "execution_count": null,
      "outputs": []
    },
    {
      "cell_type": "markdown",
      "metadata": {
        "id": "oiTd4ASQ00AC"
      },
      "source": [
        "## Define Testing Logic\n",
        "\n",
        "Once the model is done training we want to test it: run it against some fresh data from production, perhaps, or apply it to some hand-curated \"hard examples\".\n",
        "\n",
        "### Optional Step 4: Call wandb.save\n",
        "\n",
        "#### 4️⃣ Optional Step 4: Call `wandb.save`\n",
        "\n",
        "This is also a great time to save the model's architecture\n",
        "and final parameters to disk.\n",
        "For maximum compatibility, we'll `export` our model in the\n",
        "[Open Neural Network eXchange (ONNX) format](https://onnx.ai/).\n",
        "\n",
        "Passing that filename to `wandb.save` ensures that the model parameters\n",
        "are saved to W&B's servers: no more losing track of which `.h5` or `.pb`\n",
        "corresponds to which training runs!\n",
        "\n",
        "For more advanced `wandb` features for storing, versioning, and distributing\n",
        "models, check out our [Artifacts tools](https://www.wandb.com/artifacts)."
      ]
    },
    {
      "cell_type": "code",
      "metadata": {
        "id": "a5NpAYekzk7V"
      },
      "source": [
        "def test(model, test_loader):\n",
        "  model.eval()\n",
        "\n",
        "  # Run the model on some test examples\n",
        "  with torch.no_grad():\n",
        "    correct, total = 0, 0\n",
        "    for images, labels in test_loader:\n",
        "      images, labels = images.to(device), labels.to(device)\n",
        "      outputs = model(images)\n",
        "      _, predicted = torch.max(outputs.data, 1)\n",
        "      total += labels.size(0)\n",
        "      correct += (predicted == labels).sum().item()\n",
        "\n",
        "    print(f'Accuracy of the model on the {total} ' +\n",
        "          f'test images: {100 * correct / total}%')\n",
        "    \n",
        "    wandb.log({'test_accuracy': correct / total})\n",
        "\n",
        "  # save the model in the ONNX format\n",
        "  torch.onnx.export(model, images, 'model.onnx')\n",
        "  wandb.save('model.onnx')"
      ],
      "execution_count": null,
      "outputs": []
    },
    {
      "cell_type": "markdown",
      "metadata": {
        "id": "Pw764ayw4_G6"
      },
      "source": [
        "Now that we've defined the whole pipeline and slipped in\n",
        "those few lines of W&B code,\n",
        "we're ready to run our fully-tracked experiment.\n",
        "\n",
        "We'll report a few links to you:\n",
        "our documentation,\n",
        "the Project page, which organizes all the runs in a project, and\n",
        "the Run page, where this run's results will be stored.\n",
        "\n",
        "Navigate to the Run page and check out these tabs:\n",
        "\n",
        "1. **Charts**, where the model gradients, parameter values, and loss are logged throughout training\n",
        "2. **System**, which contains a variety of system metrics, including Disk I/O utilization, CPU and GPU metrics (watch that temperature soar 🔥), and more\n",
        "3. **Logs**, which has a copy of anything pushed to standard out during training\n",
        "4. **Files**, where, once training is complete, you can click on the `model.onnx` to view our network with the [Netron model viewer](https://github.com/lutzroeder/netron).\n",
        "\n",
        "Once the run in finished\n",
        "(i.e. the `with wandb.init` block is exited),\n",
        "we'll also print a summary of the results in the cell output."
      ]
    },
    {
      "cell_type": "code",
      "metadata": {
        "colab": {
          "base_uri": "https://localhost:8080/",
          "height": 1000,
          "referenced_widgets": [
            "1ae78bdd6e014e46af555843611fa975",
            "bd83f24913374a2da1a037142f8baa22",
            "2b10f5a100014c14add48dc11a8b0cdc",
            "8dc2876051d341e48694676963561fa1",
            "6b6aaf3ebb044102b378b2370758fc8b",
            "9d754963a45f4afd9b27084c7b2e543c",
            "9ba5ad2f7da24a859ed19b7dcdee1679",
            "ac1352db4c0e49999e16963144c5c840",
            "a5b774d300bf47aa903fa7a2ace89457",
            "6a0d7b79fad3424098bd507427190dfe",
            "a7b95399896a4c729369a1267721c50c",
            "c40a3ee6c456442aa89b88371cbebdc5",
            "37427cdec17e4f83ac16e43fa4b71e15",
            "3245c90cff124a0e8e26d157f1d36836",
            "8f92549758e1476ea80eeaf3d5deee7d",
            "0ddee8e013a44d7d87af9f687ffa8489"
          ]
        },
        "id": "rkYowjpN2xtB",
        "outputId": "5a3413a6-04c7-411f-f3ef-08c3c0559d60"
      },
      "source": [
        "# Build, train and analyze the model with the pipeline\n",
        "model = model_pipeline(config)"
      ],
      "execution_count": null,
      "outputs": [
        {
          "output_type": "display_data",
          "data": {
            "text/html": [
              "\n",
              "                Tracking run with wandb version 0.10.24<br/>\n",
              "                Syncing run <strong style=\"color:#cdcd00\">autumn-sponge-12</strong> to <a href=\"https://wandb.ai\" target=\"_blank\">Weights & Biases</a> <a href=\"https://docs.wandb.com/integrations/jupyter.html\" target=\"_blank\">(Documentation)</a>.<br/>\n",
              "                Project page: <a href=\"https://wandb.ai/jacquesthibs/pytorch-lit-mnist-test\" target=\"_blank\">https://wandb.ai/jacquesthibs/pytorch-lit-mnist-test</a><br/>\n",
              "                Run page: <a href=\"https://wandb.ai/jacquesthibs/pytorch-lit-mnist-test/runs/22ehhaj8\" target=\"_blank\">https://wandb.ai/jacquesthibs/pytorch-lit-mnist-test/runs/22ehhaj8</a><br/>\n",
              "                Run data is saved locally in <code>/content/wandb/run-20210405_230747-22ehhaj8</code><br/><br/>\n",
              "            "
            ],
            "text/plain": [
              "<IPython.core.display.HTML object>"
            ]
          },
          "metadata": {
            "tags": []
          }
        },
        {
          "output_type": "stream",
          "text": [
            "ConvNet(\n",
            "  (layer1): Sequential(\n",
            "    (0): Conv2d(1, 16, kernel_size=(5, 5), stride=(1, 1), padding=(2, 2))\n",
            "    (1): ReLU()\n",
            "    (2): MaxPool2d(kernel_size=2, stride=2, padding=0, dilation=1, ceil_mode=False)\n",
            "  )\n",
            "  (layer2): Sequential(\n",
            "    (0): Conv2d(16, 32, kernel_size=(5, 5), stride=(1, 1), padding=(2, 2))\n",
            "    (1): ReLU()\n",
            "    (2): MaxPool2d(kernel_size=2, stride=2, padding=0, dilation=1, ceil_mode=False)\n",
            "  )\n",
            "  (fc): Linear(in_features=1568, out_features=10, bias=True)\n",
            ")\n"
          ],
          "name": "stdout"
        },
        {
          "output_type": "stream",
          "text": [
            "/usr/local/lib/python3.7/dist-packages/torch/utils/data/dataloader.py:477: UserWarning: This DataLoader will create 8 worker processes in total. Our suggested max number of worker in current system is 4, which is smaller than what this DataLoader is going to create. Please be aware that excessive worker creation might get DataLoader running slow or even freeze, lower the worker number to avoid potential slowness/freeze if necessary.\n",
            "  cpuset_checked))\n"
          ],
          "name": "stderr"
        },
        {
          "output_type": "display_data",
          "data": {
            "application/vnd.jupyter.widget-view+json": {
              "model_id": "1ae78bdd6e014e46af555843611fa975",
              "version_minor": 0,
              "version_major": 2
            },
            "text/plain": [
              "HBox(children=(FloatProgress(value=0.0, max=5.0), HTML(value='')))"
            ]
          },
          "metadata": {
            "tags": []
          }
        },
        {
          "output_type": "stream",
          "text": [
            "/usr/local/lib/python3.7/dist-packages/torch/nn/modules/module.py:795: UserWarning: Using a non-full backward hook when the forward contains multiple autograd Nodes is deprecated and will be removed in future versions. This hook will be missing some grad_input. Please use register_full_backward_hook to get the documented behavior.\n",
            "  warnings.warn(\"Using a non-full backward hook when the forward contains multiple autograd Nodes \"\n"
          ],
          "name": "stderr"
        },
        {
          "output_type": "stream",
          "text": [
            "Loss after 03072 examples: 0.528\n",
            "Loss after 06272 examples: 0.159\n",
            "Loss after 09472 examples: 0.189\n",
            "Loss after 12640 examples: 0.109\n",
            "Loss after 15840 examples: 0.145\n",
            "Loss after 19040 examples: 0.117\n",
            "Loss after 22240 examples: 0.150\n",
            "Loss after 25408 examples: 0.055\n",
            "Loss after 28608 examples: 0.055\n",
            "Loss after 31808 examples: 0.091\n",
            "Loss after 35008 examples: 0.107\n",
            "Loss after 38176 examples: 0.008\n",
            "Loss after 41376 examples: 0.098\n",
            "Loss after 44576 examples: 0.047\n",
            "Loss after 47776 examples: 0.043\n",
            "Loss after 50944 examples: 0.025\n",
            "Loss after 54144 examples: 0.036\n",
            "Loss after 57344 examples: 0.061\n",
            "\n",
            "Accuracy of the model on the 2000 test images: 97.7%\n"
          ],
          "name": "stdout"
        },
        {
          "output_type": "display_data",
          "data": {
            "text/html": [
              "<br/>Waiting for W&B process to finish, PID 1030<br/>Program ended successfully."
            ],
            "text/plain": [
              "<IPython.core.display.HTML object>"
            ]
          },
          "metadata": {
            "tags": []
          }
        },
        {
          "output_type": "display_data",
          "data": {
            "application/vnd.jupyter.widget-view+json": {
              "model_id": "a5b774d300bf47aa903fa7a2ace89457",
              "version_minor": 0,
              "version_major": 2
            },
            "text/plain": [
              "VBox(children=(Label(value=' 0.00MB of 0.11MB uploaded (0.00MB deduped)\\r'), FloatProgress(value=0.01773711097…"
            ]
          },
          "metadata": {
            "tags": []
          }
        },
        {
          "output_type": "display_data",
          "data": {
            "text/html": [
              "Find user logs for this run at: <code>/content/wandb/run-20210405_230747-22ehhaj8/logs/debug.log</code>"
            ],
            "text/plain": [
              "<IPython.core.display.HTML object>"
            ]
          },
          "metadata": {
            "tags": []
          }
        },
        {
          "output_type": "display_data",
          "data": {
            "text/html": [
              "Find internal logs for this run at: <code>/content/wandb/run-20210405_230747-22ehhaj8/logs/debug-internal.log</code>"
            ],
            "text/plain": [
              "<IPython.core.display.HTML object>"
            ]
          },
          "metadata": {
            "tags": []
          }
        },
        {
          "output_type": "display_data",
          "data": {
            "text/html": [
              "<h3>Run summary:</h3><br/><style>\n",
              "    table.wandb td:nth-child(1) { padding: 0 10px; text-align: right }\n",
              "    </style><table class=\"wandb\">\n",
              "<tr><td>_runtime</td><td>7</td></tr><tr><td>_timestamp</td><td>1617664074</td></tr><tr><td>_step</td><td>57344</td></tr><tr><td>epoch</td><td>4</td></tr><tr><td>loss</td><td>0.06123</td></tr><tr><td>test_accuracy</td><td>0.977</td></tr></table>"
            ],
            "text/plain": [
              "<IPython.core.display.HTML object>"
            ]
          },
          "metadata": {
            "tags": []
          }
        },
        {
          "output_type": "display_data",
          "data": {
            "text/html": [
              "<h3>Run history:</h3><br/><style>\n",
              "    table.wandb td:nth-child(1) { padding: 0 10px; text-align: right }\n",
              "    </style><table class=\"wandb\">\n",
              "<tr><td>_runtime</td><td>▁▁▁▁▃▃▃▃▃▅▅▅▅▅▆▆▆▆█</td></tr><tr><td>_timestamp</td><td>▁▁▁▁▃▃▃▃▃▅▅▅▅▅▆▆▆▆█</td></tr><tr><td>_step</td><td>▁▁▂▂▃▃▃▄▄▄▅▅▆▆▆▇▇██</td></tr><tr><td>epoch</td><td>▁▁▁▃▃▃▃▅▅▅▅▆▆▆▆███</td></tr><tr><td>loss</td><td>█▃▃▂▃▂▃▂▂▂▂▁▂▂▁▁▁▂</td></tr><tr><td>test_accuracy</td><td>▁</td></tr></table><br/>"
            ],
            "text/plain": [
              "<IPython.core.display.HTML object>"
            ]
          },
          "metadata": {
            "tags": []
          }
        },
        {
          "output_type": "display_data",
          "data": {
            "text/html": [
              "Synced 5 W&B file(s), 1 media file(s), 0 artifact file(s) and 1 other file(s)"
            ],
            "text/plain": [
              "<IPython.core.display.HTML object>"
            ]
          },
          "metadata": {
            "tags": []
          }
        },
        {
          "output_type": "display_data",
          "data": {
            "text/html": [
              "\n",
              "                    <br/>Synced <strong style=\"color:#cdcd00\">autumn-sponge-12</strong>: <a href=\"https://wandb.ai/jacquesthibs/pytorch-lit-mnist-test/runs/22ehhaj8\" target=\"_blank\">https://wandb.ai/jacquesthibs/pytorch-lit-mnist-test/runs/22ehhaj8</a><br/>\n",
              "                "
            ],
            "text/plain": [
              "<IPython.core.display.HTML object>"
            ]
          },
          "metadata": {
            "tags": []
          }
        }
      ]
    },
    {
      "cell_type": "markdown",
      "metadata": {
        "id": "hMiF9nyxpZlQ"
      },
      "source": [
        "# Supercharge you Training with PyTorch Lightning + Wandb"
      ]
    },
    {
      "cell_type": "code",
      "metadata": {
        "id": "MUGfg5zr5IMX"
      },
      "source": [
        "%%capture\n",
        "!pip install -qqq wandb pytorch-lightning"
      ],
      "execution_count": null,
      "outputs": []
    },
    {
      "cell_type": "code",
      "metadata": {
        "id": "HSsDGov3U5MI"
      },
      "source": [
        "# numpy for non-GPU array math\n",
        "import numpy as np\n",
        "\n",
        "# Vanilla PyTorch\n",
        "import torch\n",
        "from torch.nn import functional as F\n",
        "from torch import nn\n",
        "from torch.utils.data import DataLoader, random_split\n",
        "\n",
        "# Torchvision for CV\n",
        "from torchvision.datasets import MNIST\n",
        "from torchvision import transforms"
      ],
      "execution_count": null,
      "outputs": []
    },
    {
      "cell_type": "code",
      "metadata": {
        "colab": {
          "base_uri": "https://localhost:8080/",
          "height": 86
        },
        "id": "K5QwEL0lVZZP",
        "outputId": "52313c03-1110-4ff7-fb02-04c67f9643f4"
      },
      "source": [
        "# PyTorch Lightning\n",
        "import pytorch_lightning as pl\n",
        "pl.seed_everything(hash('setting random seeds') % 2**32 -1)\n",
        "\n",
        "# weights and biases\n",
        "import wandb\n",
        "\n",
        "# lightning plus wandb\n",
        "from pytorch_lightning.loggers import WandbLogger\n",
        "\n",
        "wandb.login()"
      ],
      "execution_count": null,
      "outputs": [
        {
          "output_type": "stream",
          "text": [
            "Global seed set to 2151364606\n"
          ],
          "name": "stderr"
        },
        {
          "output_type": "display_data",
          "data": {
            "application/javascript": [
              "\n",
              "        window._wandbApiKey = new Promise((resolve, reject) => {\n",
              "            function loadScript(url) {\n",
              "            return new Promise(function(resolve, reject) {\n",
              "                let newScript = document.createElement(\"script\");\n",
              "                newScript.onerror = reject;\n",
              "                newScript.onload = resolve;\n",
              "                document.body.appendChild(newScript);\n",
              "                newScript.src = url;\n",
              "            });\n",
              "            }\n",
              "            loadScript(\"https://cdn.jsdelivr.net/npm/postmate/build/postmate.min.js\").then(() => {\n",
              "            const iframe = document.createElement('iframe')\n",
              "            iframe.style.cssText = \"width:0;height:0;border:none\"\n",
              "            document.body.appendChild(iframe)\n",
              "            const handshake = new Postmate({\n",
              "                container: iframe,\n",
              "                url: 'https://wandb.ai/authorize'\n",
              "            });\n",
              "            const timeout = setTimeout(() => reject(\"Couldn't auto authenticate\"), 5000)\n",
              "            handshake.then(function(child) {\n",
              "                child.on('authorize', data => {\n",
              "                    clearTimeout(timeout)\n",
              "                    resolve(data)\n",
              "                });\n",
              "            });\n",
              "            })\n",
              "        });\n",
              "    "
            ],
            "text/plain": [
              "<IPython.core.display.Javascript object>"
            ]
          },
          "metadata": {
            "tags": []
          }
        },
        {
          "output_type": "stream",
          "text": [
            "\u001b[34m\u001b[1mwandb\u001b[0m: Appending key for api.wandb.ai to your netrc file: /root/.netrc\n"
          ],
          "name": "stderr"
        },
        {
          "output_type": "execute_result",
          "data": {
            "text/plain": [
              "True"
            ]
          },
          "metadata": {
            "tags": []
          },
          "execution_count": 3
        }
      ]
    },
    {
      "cell_type": "markdown",
      "metadata": {
        "id": "1_jfPsnVWGMt"
      },
      "source": [
        "> _Note_: If you're executing your training in a terminal, rather than a notebook, you don't need to include `wandb.login()` in your script.\n",
        "Instead, call `wandb login` in the terminal and we'll keep you logged in for future runs."
      ]
    },
    {
      "cell_type": "markdown",
      "metadata": {
        "id": "WTTwqSnHWGQk"
      },
      "source": [
        "# 🏗️ Building a Model with Lightning\n",
        "\n",
        "In PyTorch Lightning, models are built with `LightningModule` ([docs here](https://pytorch-lightning.readthedocs.io/en/latest/lightning_module.html)), which has all the functionality of a vanilla `torch.nn.Module` (🍦) but with a few delicious cherries of added functionality on top (🍨).\n",
        "These cherries are there to cut down on boilerplate and\n",
        "help separate out the ML engineering code\n",
        "from the actual machine learning.\n",
        "\n",
        "For example, the mechanics of iterating over batches\n",
        "as part of an epoch are extracted away,\n",
        "so long as you define what happens on the `training_step`.\n",
        "\n",
        "To make a working model out of a `LightningModule`,\n",
        "we need to define a new `class` and add a few methods on top.\n",
        "\n",
        "We'll demonstrate this process with `LitMLP`,\n",
        "which applies a two-layer perceptron\n",
        "(aka two fully-connected layers and\n",
        "a fully-connected softmax readout layer)\n",
        "to input `Tensors`.\n",
        "\n",
        "> _Note_: It is common in the Lightning community to shorten \"Lightning\" to \"Lit\".\n",
        "This sometimes it sound like your code was written by\n",
        "[Travis Scott](https://www.urbandictionary.com/define.php?term=it%27s%20lit).\n",
        "We consider this a good thing."
      ]
    },
    {
      "cell_type": "markdown",
      "metadata": {
        "id": "HhBu4W0TW1Df"
      },
      "source": [
        "# `__init__ `and `forward`\n",
        "\n",
        "First, we need to add two methods that\n",
        "are part of any vanilla PyTorch model.\n",
        "\n",
        "Those methods are:\n",
        "* `__init__` to do any setup, just like any Python class\n",
        "* `forward` for inference, just like a PyTorch Module\n",
        "\n",
        "The `forward` pass method is standard,\n",
        "and it'll be different for every project,\n",
        "so we won't comment on it.\n",
        "\n",
        "The `__init__` method,\n",
        "which `init`ializes new instances of the class,\n",
        "is a good place to log hyperparameter information to `wandb`.\n",
        "\n",
        "This is done with the `save_hyperparameters` method,\n",
        "which captures all of the arguments to the initializer\n",
        "and adds them to a dictionary at `self.hparams` --\n",
        "that all comes for free as part of the `LightningModule`.\n",
        "\n",
        "> _Note_: `hparams` is logged to `wandb` as the `config`,\n",
        "so you'll never lose track of the arguments you used to run a model again!"
      ]
    },
    {
      "cell_type": "code",
      "metadata": {
        "id": "z7_LVy12V2C7"
      },
      "source": [
        "# PyTorch Lightning deals with all the boilerplate code like `to(device)`\n",
        "\n",
        "class LitMLP(pl.LightningModule):\n",
        "\n",
        "  def __init__(self, in_dims, \n",
        "               n_classes=10, n_layer_1=128, n_layer_2=256, lr=1e-4):\n",
        "    super().__init__()\n",
        "\n",
        "    # we flatten the input Tensors and pass them through an MLP\n",
        "    self.layer_1 = nn.Linear(np.prod(in_dims), n_layer_1)\n",
        "    self.layer_2 = nn.Linear(n_layer_1, n_layer_2)\n",
        "    self.layer_3 = nn.Linear(n_layer_2, n_classes)\n",
        "\n",
        "    # log hyperparameters\n",
        "    self.save_hyperparameters()\n",
        "\n",
        "    # compute the accuracy -- no need to roll your own!\n",
        "    self.train_acc = pl.metrics.Accuracy()\n",
        "    self.valid_acc = pl.metrics.Accuracy()\n",
        "    self.test_acc = pl.metrics.Accuracy()\n",
        "\n",
        "  def forward(self, x):\n",
        "      \"\"\"\n",
        "      Defines a forward pass using the Stem-Learner-Task\n",
        "      design pattern from Deep Learning Design Patterns:\n",
        "      https://www.manning.com/books/deep-learning-design-patterns\n",
        "      \"\"\"\n",
        "      batch_size, *dims = x.size()\n",
        "\n",
        "      # stem: flatten\n",
        "      x = x.view(batch_size, -1)\n",
        "\n",
        "      # learner: two fully-connected layers\n",
        "      x = F.relu(self.layer_1(x))\n",
        "      x = F.relu(self.layer_2(x))\n",
        "\n",
        "      # task: compute class logits\n",
        "      x = self.layer_3(x)\n",
        "      x = F.log_softmax(x, dim=1)\n",
        "\n",
        "      return x\n",
        "\n",
        "  # convenient method to get the loss on a batch\n",
        "  def loss(self, xs, ys):\n",
        "      logits = self(xs) # this calls self.forward\n",
        "      loss = F.nll_loss(logits, ys)\n",
        "      return logits, loss\n",
        "\n",
        "  # training loop\n",
        "\n",
        "  def training_step(self, batch, batch_idx):\n",
        "      xs, ys =  batch\n",
        "      logits, loss = self.loss(xs, ys) # run the loss function up there ^^\n",
        "      preds = torch.argmax(logits, 1) # take the highest predicted number\n",
        "\n",
        "      # logging metrics we calculated by hand\n",
        "      self.log('train/loss', loss, on_epoch=True)\n",
        "\n",
        "      # logging a pl.Metric\n",
        "      self.train_acc(preds, ys)\n",
        "      self.log('train/acc', self.train_acc, on_epoch=True)\n",
        "\n",
        "      return loss\n",
        "\n",
        "  def configure_optimizers(self):\n",
        "      return torch.optim.Adam(self.parameters(), lr=self.hparams['lr'])\n",
        "\n",
        "  # Testing the model and logging\n",
        "\n",
        "  def test_step(self, batch, batch_idx):\n",
        "      xs, ys = batch\n",
        "      logits, loss = self.loss(xs, ys)\n",
        "      preds = torch.argmax(logits, 1)\n",
        "\n",
        "      self.test_acc(preds, ys)\n",
        "      self.log('test/loss_epoch', loss, on_step=False, on_epoch=True)\n",
        "      self.log('test/acc_epoch', self.test_acc, on_step=False, on_epoch=True)\n",
        "\n",
        "  # Saving in ONNX format\n",
        "\n",
        "  def test_epoch_end(self, test_step_outputs): # args are defined as part of pl API\n",
        "      dummy_input = torch.zeros(self.hparams['in_dims'], device=self.device)\n",
        "      model_filename = 'model_final.onnx'\n",
        "      torch.onnx.export(self, dummy_input, model_filename) # save weights and biases in onnx file\n",
        "      wandb.save(model_filename)\n",
        "\n",
        "  def validation_step(self, batch, batch_idx):\n",
        "      xs, ys = batch\n",
        "      logits, loss = self.loss(xs, ys)\n",
        "      preds = torch.argmax(logits, 1)\n",
        "      self.valid_acc(preds, ys)\n",
        "\n",
        "      self.log('valid/loss_epoch', loss) # defaults on val/test is on_epoch only\n",
        "      self.log('valid/acc_epoch', self.valid_acc)\n",
        "\n",
        "      return logits\n",
        "\n",
        "  def validation_epoch_end(self, validation_step_outputs):\n",
        "\n",
        "      # Saving our model weights and biases every epoch.\n",
        "      # This way, if we overfit, we can just roll back our weights to the saved weights at the best epoch\n",
        "      dummy_input = torch.zeros(self.hparams['in_dims'], device=self.device)\n",
        "      model_filename = f'model_{str(self.global_step).zfill(5)}.onnx'\n",
        "      torch.onnx.export(self, dummy_input, model_filename)\n",
        "      wandb.save(model_filename)\n",
        "\n",
        "      # flatten validation step outputs as a pytorch tensor and turn into a histogram\n",
        "      flattened_logits = torch.flatten(torch.cat(validation_step_outputs))\n",
        "      self.logger.experiment.log(\n",
        "          {'valid/logits': wandb.Histogram(flattened_logits.to('cpu')),\n",
        "           'global_step': self.global_step}\n",
        "      )\n"
      ],
      "execution_count": null,
      "outputs": []
    },
    {
      "cell_type": "markdown",
      "metadata": {
        "id": "ODxpsEcHbrKO"
      },
      "source": [
        "# Logging more fancy stuff with W&B\n",
        "\n",
        "If you only want to log things like metrics, then you can do that with Lightning. However, if you want to start logging more fancy stuff like your model inputs and outputs (different media), then you will need to combine W&B with PyTorch Lightning.\n",
        "\n",
        "Useful for debugging. Everything can seem fine, but there is one class performing poorly. Sometimes it's only possible to debug by looking at the inputs and outputs directly. It's for finding silent bugs."
      ]
    },
    {
      "cell_type": "code",
      "metadata": {
        "id": "jpMRw2ySX3Le"
      },
      "source": [
        "# For every validation_epoch, log input images and output predictions using W&B's Image logger.\n",
        "\n",
        "class ImagePredictionLogger(pl.Callback):\n",
        "    def __init__(self, val_samples, num_samples=12):\n",
        "        super().__init__()\n",
        "        self.val_imgs, self.val_labels = val_samples\n",
        "        self.val_imgs = self.val_imgs[:num_samples]\n",
        "        self.val_labels = self.val_labels[:num_samples]\n",
        "\n",
        "    def on_validation_epoch_end(self, trainer, pl_module):\n",
        "        val_imgs = self.val_imgs.to(device=pl_module.device)\n",
        "\n",
        "        logits = pl_module(val_imgs) # compute outputs of our models on the images\n",
        "        preds = torch.argmax(logits, 1)\n",
        "\n",
        "        trainer.logger.experiment.log({\n",
        "            'examples': [wandb.Image(x, caption=f'Pred:{pred}, Label:{y}')\n",
        "            for x, pred, y in zip(val_imgs, preds, self.val_labels)],\n",
        "            'global_step': trainer.global_step\n",
        "        })"
      ],
      "execution_count": null,
      "outputs": []
    },
    {
      "cell_type": "markdown",
      "metadata": {
        "id": "bSO6umOJ7DFL"
      },
      "source": [
        "# Defining our data pipeline\n",
        "\n",
        "Can use PyTorch (DataLoader) or PyTorch Lightning (DataModules).\n",
        "\n",
        "`DataModules` are more structured definition, which allows for additional optimizations such as automated distribution of workload between CPU & GPU.\n",
        "Using `DataModules` is recommended whenever possible!\n",
        "\n",
        "A `DataModule` is also defined by an interface:\n",
        "* `prepare_data` (optional) which is called only once and on 1 GPU -- typically something like the data download step we have below\n",
        "* `setup`, which is called on each GPU separately and accepts `stage` to define if we are at `fit` or `test` step\n",
        "* `train_dataloader`, `val_dataloader` and `test_dataloader` to load each dataset"
      ]
    },
    {
      "cell_type": "code",
      "metadata": {
        "colab": {
          "base_uri": "https://localhost:8080/",
          "height": 669,
          "referenced_widgets": [
            "9fef7bc5a2774171947a15e3e784b94c",
            "f0ef91be1fdf4a80994b9901255d5bcf",
            "84c8ee94aaad4a67a2fba17db9ec0f5c",
            "8df40c2ec0f841059da346569d24e36f",
            "eccdc19c1ad8449c9b6916f83152c367",
            "3f473ec64a9a4db3924367b2200feb3d",
            "16b7e376d89d46b68c007002a9cfea51",
            "f0d0a04a3120422f8c031ba21940bbc6",
            "dad284ce54454b0a956b25ae9378faca",
            "5db72ebd5ef548989568d68f1af9d666",
            "e8de258cbba54e729b1c96df4131fbdc",
            "bd0d7b8c8bae42bdabcc495d5fb7c3a4",
            "ef7c5fad84b7402eba6af42d70c0110c",
            "c95712e2f94947cabd6d78f8a5912f0b",
            "6b5ae75138a3455b83a54531c7ed3b95",
            "a4625e32155b47a9a30eb36493beac30",
            "6e0c05583d9548179eb35da477713d99",
            "3703214c450943f7ac65ce3f4318d8f8",
            "bb9d3a89022341aea46e5560ea0c776d",
            "963653fdd7b048fd8be4743dbec17e75",
            "ca421a92d6684572977d71d2ab066688",
            "d7c00f7454984afca57083683f149f0a",
            "782a4ee0af0f4740a6b4bfbe4a257624",
            "0c9e028e3c794235b5da51dac7759ae6",
            "c58ab360c7584269ad29a4555798f372",
            "5f78532e3c0d4cd2809e68dbc80878de",
            "73256f8e2ed84965b533e162be74ef9e",
            "614cb180b38e4c1cad4f37e979ba6154",
            "9003b4a36d67448eb53507705305ffa4",
            "afd48c803eea4e09a3e12704e56ce88b",
            "c694298a82d748fcb4da57e75145af77",
            "b15fadef58224decbf7998236677477a"
          ]
        },
        "id": "0gxZuQ9y6zfS",
        "outputId": "53791d61-6bc2-4361-e637-6a14269c7510"
      },
      "source": [
        "class MNISTDataModule(pl.LightningDataModule):\n",
        "\n",
        "    def __init__(self, data_dir='./', batch_size=128):\n",
        "      super().__init__()\n",
        "      self.data_dir = data_dir\n",
        "      self.batch_size = batch_size\n",
        "      self.transform = transforms.Compose([\n",
        "                                           transforms.ToTensor(),\n",
        "                                           transforms.Normalize((0.1307,), (0.3081,))\n",
        "      ])\n",
        "\n",
        "    def prepare_data(self):\n",
        "        # download data, train then test\n",
        "        MNIST(self.data_dir, train=True, download=True)\n",
        "        MNIST(self.data_dir, train=False, download=True)\n",
        "\n",
        "    def setup(self, stage=None):\n",
        "\n",
        "        # we set up only relevant datasets when stage is specified\n",
        "        if stage == 'fit' or stage is None:\n",
        "            mnist = MNIST(self.data_dir, train=True, transform=self.transform)\n",
        "            self.mnist_train, self.mnist_val = random_split(mnist, [55000, 5000])\n",
        "        if stage == 'test' or stage is None:\n",
        "            self.mnist_test = MNIST(self.data_dir, train=False, transform=self.transform)\n",
        "\n",
        "    # we define separate DataLoader for each of train/val/test\n",
        "    def train_dataloader(self):\n",
        "        mnist_train = DataLoader(self.mnist_train, batch_size=self.batch_size)\n",
        "        return mnist_train\n",
        "\n",
        "    def val_dataloader(self):\n",
        "        mnist_val = DataLoader(self.mnist_val, batch_size=10 * self.batch_size)\n",
        "        return mnist_val\n",
        "\n",
        "    def test_dataloader(self):\n",
        "        mnist_test = DataLoader(self.mnist_test, batch_size=10 * self.batch_size)\n",
        "        return mnist_test\n",
        "\n",
        "# setup data\n",
        "mnist = MNISTDataModule()\n",
        "mnist.prepare_data()\n",
        "mnist.setup()\n",
        "\n",
        "# grab samples to log predictions on\n",
        "samples = next(iter(mnist.val_dataloader()))"
      ],
      "execution_count": null,
      "outputs": [
        {
          "output_type": "stream",
          "text": [
            "Downloading http://yann.lecun.com/exdb/mnist/train-images-idx3-ubyte.gz\n",
            "Downloading http://yann.lecun.com/exdb/mnist/train-images-idx3-ubyte.gz to ./MNIST/raw/train-images-idx3-ubyte.gz\n"
          ],
          "name": "stdout"
        },
        {
          "output_type": "display_data",
          "data": {
            "application/vnd.jupyter.widget-view+json": {
              "model_id": "9fef7bc5a2774171947a15e3e784b94c",
              "version_minor": 0,
              "version_major": 2
            },
            "text/plain": [
              "HBox(children=(FloatProgress(value=0.0, max=9912422.0), HTML(value='')))"
            ]
          },
          "metadata": {
            "tags": []
          }
        },
        {
          "output_type": "stream",
          "text": [
            "\n",
            "Extracting ./MNIST/raw/train-images-idx3-ubyte.gz to ./MNIST/raw\n",
            "\n",
            "Downloading http://yann.lecun.com/exdb/mnist/train-labels-idx1-ubyte.gz\n",
            "Downloading http://yann.lecun.com/exdb/mnist/train-labels-idx1-ubyte.gz to ./MNIST/raw/train-labels-idx1-ubyte.gz\n"
          ],
          "name": "stdout"
        },
        {
          "output_type": "display_data",
          "data": {
            "application/vnd.jupyter.widget-view+json": {
              "model_id": "dad284ce54454b0a956b25ae9378faca",
              "version_minor": 0,
              "version_major": 2
            },
            "text/plain": [
              "HBox(children=(FloatProgress(value=0.0, max=28881.0), HTML(value='')))"
            ]
          },
          "metadata": {
            "tags": []
          }
        },
        {
          "output_type": "stream",
          "text": [
            "\n",
            "Extracting ./MNIST/raw/train-labels-idx1-ubyte.gz to ./MNIST/raw\n",
            "\n",
            "Downloading http://yann.lecun.com/exdb/mnist/t10k-images-idx3-ubyte.gz\n",
            "Downloading http://yann.lecun.com/exdb/mnist/t10k-images-idx3-ubyte.gz to ./MNIST/raw/t10k-images-idx3-ubyte.gz\n",
            "Failed to download (trying next):\n",
            "HTTP Error 503: Service Unavailable\n",
            "\n",
            "Downloading https://ossci-datasets.s3.amazonaws.com/mnist/t10k-images-idx3-ubyte.gz\n",
            "Downloading https://ossci-datasets.s3.amazonaws.com/mnist/t10k-images-idx3-ubyte.gz to ./MNIST/raw/t10k-images-idx3-ubyte.gz\n"
          ],
          "name": "stdout"
        },
        {
          "output_type": "display_data",
          "data": {
            "application/vnd.jupyter.widget-view+json": {
              "model_id": "6e0c05583d9548179eb35da477713d99",
              "version_minor": 0,
              "version_major": 2
            },
            "text/plain": [
              "HBox(children=(FloatProgress(value=0.0, max=1648877.0), HTML(value='')))"
            ]
          },
          "metadata": {
            "tags": []
          }
        },
        {
          "output_type": "stream",
          "text": [
            "\n",
            "Extracting ./MNIST/raw/t10k-images-idx3-ubyte.gz to ./MNIST/raw\n",
            "\n",
            "Downloading http://yann.lecun.com/exdb/mnist/t10k-labels-idx1-ubyte.gz\n",
            "Downloading http://yann.lecun.com/exdb/mnist/t10k-labels-idx1-ubyte.gz to ./MNIST/raw/t10k-labels-idx1-ubyte.gz\n"
          ],
          "name": "stdout"
        },
        {
          "output_type": "display_data",
          "data": {
            "application/vnd.jupyter.widget-view+json": {
              "model_id": "c58ab360c7584269ad29a4555798f372",
              "version_minor": 0,
              "version_major": 2
            },
            "text/plain": [
              "HBox(children=(FloatProgress(value=0.0, max=4542.0), HTML(value='')))"
            ]
          },
          "metadata": {
            "tags": []
          }
        },
        {
          "output_type": "stream",
          "text": [
            "\n",
            "Extracting ./MNIST/raw/t10k-labels-idx1-ubyte.gz to ./MNIST/raw\n",
            "\n",
            "Processing...\n",
            "Done!\n"
          ],
          "name": "stdout"
        },
        {
          "output_type": "stream",
          "text": [
            "/usr/local/lib/python3.7/dist-packages/torchvision/datasets/mnist.py:502: UserWarning: The given NumPy array is not writeable, and PyTorch does not support non-writeable tensors. This means you can write to the underlying (supposedly non-writeable) NumPy array using the tensor. You may want to copy the array to protect its data or make it writeable before converting it to a tensor. This type of warning will be suppressed for the rest of this program. (Triggered internally at  /pytorch/torch/csrc/utils/tensor_numpy.cpp:143.)\n",
            "  return torch.from_numpy(parsed.astype(m[2], copy=False)).view(*s)\n"
          ],
          "name": "stderr"
        }
      ]
    },
    {
      "cell_type": "markdown",
      "metadata": {
        "id": "Iz-MVBDbDjIa"
      },
      "source": [
        "# Making a Trainer\n",
        "\n",
        "The `DataLoader` and the `LightningModule`\n",
        "are brought together by a `Trainer`,\n",
        "which orchestrates data loading,\n",
        "gradient calculation,\n",
        "optimizer logic,\n",
        "and logging. \n",
        "\n",
        "Luckily, we don't need to sub-class the `Trainer`,\n",
        "we just need to configure it with keyword arguments."
      ]
    },
    {
      "cell_type": "code",
      "metadata": {
        "id": "NraPAqZ4-k0r"
      },
      "source": [
        "wandb_logger = WandbLogger(project='lit-wandb')"
      ],
      "execution_count": null,
      "outputs": []
    },
    {
      "cell_type": "markdown",
      "metadata": {
        "id": "t5TSwO36D5__"
      },
      "source": [
        "> _Note_: Check out [the documentation](https://docs.wandb.com/library/integrations/lightning) for customization options. I like `group`s and `tag`s!."
      ]
    },
    {
      "cell_type": "markdown",
      "metadata": {
        "id": "nBEoAHKjD6CN"
      },
      "source": [
        "We can then set up our `Trainer` and customize several options, such as gradient accumulation, half precision training and distributed computing.\n",
        "\n",
        "We'll stick to the basics for this example,\n",
        "but half-precision training and easy scaling to distributed settings are two of the major reasons why folks like PyTorch Lightning!"
      ]
    },
    {
      "cell_type": "code",
      "metadata": {
        "colab": {
          "base_uri": "https://localhost:8080/"
        },
        "id": "ev9WelUlDz8w",
        "outputId": "0f7c6ca8-2d91-4f08-d1c1-9c7056b0a594"
      },
      "source": [
        "trainer = pl.Trainer(\n",
        "    logger=wandb_logger,    # W&B integration\n",
        "    log_every_n_steps=50,   # set the logging frequency\n",
        "    gpus=-1,                # use all GPUs\n",
        "    max_epochs=5,           # number of epochs\n",
        "    deterministic=True,     # keep it deterministic\n",
        "    callbacks=[ImagePredictionLogger(samples)] # see Callbacks section\n",
        "    )"
      ],
      "execution_count": null,
      "outputs": [
        {
          "output_type": "stream",
          "text": [
            "GPU available: True, used: True\n",
            "TPU available: False, using: 0 TPU cores\n"
          ],
          "name": "stderr"
        }
      ]
    },
    {
      "cell_type": "markdown",
      "metadata": {
        "id": "egfrR8wTEgg0"
      },
      "source": [
        "# Running our Model"
      ]
    },
    {
      "cell_type": "code",
      "metadata": {
        "colab": {
          "base_uri": "https://localhost:8080/",
          "height": 1000,
          "referenced_widgets": [
            "8f7df31b0f37482cac53c8906df11187",
            "0b40ecf0331642bfbc156bffc3a8ddf8",
            "949a9f59e0dc4b3793255ab4228296f5",
            "242e604b79d04a219d41c065cb75847d",
            "15b06699dcda419192a005062284d8c3",
            "494be45c88bb4fa9be0118df62f0826c",
            "6fc46e7aa96d4e25840f3b59fc9df470",
            "702f6e475aae4eac8bdfbe7a4cdd8703",
            "b98537c4a44b48e1860f5b4a252640c2",
            "e05dc0aa9a614cc8a55eabfb9cdce6fe",
            "d120e428f81943bb8596dbfcf496771d",
            "24d518276eb6456ebf0b136ba076f19f",
            "1fb1830aa929410cb18acf7686df6b0f",
            "749b4d3dbd844869a16f9119512e4652",
            "204bcc10544b4c03832db4ab98159784",
            "d56e4bd1db0a4fc88d12767cacc0a9f2",
            "6a88f074ce39444798c8ce46d8300e16",
            "b7df386159334ec1b6b45c193b744cea",
            "cf8dfcc79fff48d4b9b5842bc5645332",
            "7495325c8c194215ad78d0869324719e",
            "37fcde2558624767b5c980a63d65c70a",
            "f58a1f4ed50044f3b3e25be4344adf10",
            "a19344f1320b4be8b3b0d817fb6b5727",
            "08f3ebdb366f4bdab43d36656686f8f3"
          ]
        },
        "id": "V3eveIbvEdYg",
        "outputId": "a92b73c5-d362-4046-a5a9-d8fd43be91e6"
      },
      "source": [
        "# Setup the model\n",
        "model = LitMLP(in_dims=(1, 28, 28))\n",
        "\n",
        "# fit the model\n",
        "trainer.fit(model, mnist)\n",
        "\n",
        "# evaluate the model on a test set\n",
        "trainer.test(datamodule=mnist,\n",
        "             ckpt_path=None) # uses last-saved model, default simply uses the best model\n",
        "\n",
        "wandb.finish()"
      ],
      "execution_count": null,
      "outputs": [
        {
          "output_type": "stream",
          "text": [
            "/usr/local/lib/python3.7/dist-packages/pytorch_lightning/utilities/distributed.py:52: UserWarning: you passed in a val_dataloader but have no validation_step. Skipping validation loop\n",
            "  warnings.warn(*args, **kwargs)\n",
            "LOCAL_RANK: 0 - CUDA_VISIBLE_DEVICES: [0]\n",
            "\u001b[34m\u001b[1mwandb\u001b[0m: Currently logged in as: \u001b[33mjacquesthibs\u001b[0m (use `wandb login --relogin` to force relogin)\n"
          ],
          "name": "stderr"
        },
        {
          "output_type": "display_data",
          "data": {
            "text/html": [
              "\n",
              "                Tracking run with wandb version 0.10.25<br/>\n",
              "                Syncing run <strong style=\"color:#cdcd00\">solar-moon-1</strong> to <a href=\"https://wandb.ai\" target=\"_blank\">Weights & Biases</a> <a href=\"https://docs.wandb.com/integrations/jupyter.html\" target=\"_blank\">(Documentation)</a>.<br/>\n",
              "                Project page: <a href=\"https://wandb.ai/jacquesthibs/lit-wandb\" target=\"_blank\">https://wandb.ai/jacquesthibs/lit-wandb</a><br/>\n",
              "                Run page: <a href=\"https://wandb.ai/jacquesthibs/lit-wandb/runs/1ids7z8v\" target=\"_blank\">https://wandb.ai/jacquesthibs/lit-wandb/runs/1ids7z8v</a><br/>\n",
              "                Run data is saved locally in <code>/content/wandb/run-20210406_212606-1ids7z8v</code><br/><br/>\n",
              "            "
            ],
            "text/plain": [
              "<IPython.core.display.HTML object>"
            ]
          },
          "metadata": {
            "tags": []
          }
        },
        {
          "output_type": "stream",
          "text": [
            "\n",
            "  | Name      | Type     | Params\n",
            "---------------------------------------\n",
            "0 | layer_1   | Linear   | 100 K \n",
            "1 | layer_2   | Linear   | 33.0 K\n",
            "2 | layer_3   | Linear   | 2.6 K \n",
            "3 | train_acc | Accuracy | 0     \n",
            "4 | valid_acc | Accuracy | 0     \n",
            "5 | test_acc  | Accuracy | 0     \n",
            "---------------------------------------\n",
            "136 K     Trainable params\n",
            "0         Non-trainable params\n",
            "136 K     Total params\n",
            "0.544     Total estimated model params size (MB)\n",
            "/usr/local/lib/python3.7/dist-packages/pytorch_lightning/utilities/distributed.py:52: UserWarning: The dataloader, train dataloader, does not have many workers which may be a bottleneck. Consider increasing the value of the `num_workers` argument` (try 4 which is the number of cpus on this machine) in the `DataLoader` init to improve performance.\n",
            "  warnings.warn(*args, **kwargs)\n"
          ],
          "name": "stderr"
        },
        {
          "output_type": "display_data",
          "data": {
            "application/vnd.jupyter.widget-view+json": {
              "model_id": "8f7df31b0f37482cac53c8906df11187",
              "version_minor": 0,
              "version_major": 2
            },
            "text/plain": [
              "HBox(children=(FloatProgress(value=1.0, bar_style='info', description='Training', layout=Layout(flex='2'), max…"
            ]
          },
          "metadata": {
            "tags": []
          }
        },
        {
          "output_type": "stream",
          "text": [
            "LOCAL_RANK: 0 - CUDA_VISIBLE_DEVICES: [0]\n"
          ],
          "name": "stderr"
        },
        {
          "output_type": "stream",
          "text": [
            "\n"
          ],
          "name": "stdout"
        },
        {
          "output_type": "stream",
          "text": [
            "/usr/local/lib/python3.7/dist-packages/pytorch_lightning/utilities/distributed.py:52: UserWarning: The dataloader, test dataloader 0, does not have many workers which may be a bottleneck. Consider increasing the value of the `num_workers` argument` (try 4 which is the number of cpus on this machine) in the `DataLoader` init to improve performance.\n",
            "  warnings.warn(*args, **kwargs)\n"
          ],
          "name": "stderr"
        },
        {
          "output_type": "display_data",
          "data": {
            "application/vnd.jupyter.widget-view+json": {
              "model_id": "b98537c4a44b48e1860f5b4a252640c2",
              "version_minor": 0,
              "version_major": 2
            },
            "text/plain": [
              "HBox(children=(FloatProgress(value=1.0, bar_style='info', description='Testing', layout=Layout(flex='2'), max=…"
            ]
          },
          "metadata": {
            "tags": []
          }
        },
        {
          "output_type": "stream",
          "text": [
            "\n",
            "--------------------------------------------------------------------------------\n",
            "DATALOADER:0 TEST RESULTS\n",
            "{'test/acc_epoch': 0.9505000114440918, 'test/loss_epoch': 0.16673018038272858}\n",
            "--------------------------------------------------------------------------------\n"
          ],
          "name": "stdout"
        },
        {
          "output_type": "display_data",
          "data": {
            "text/html": [
              "<br/>Waiting for W&B process to finish, PID 1569<br/>Program ended successfully."
            ],
            "text/plain": [
              "<IPython.core.display.HTML object>"
            ]
          },
          "metadata": {
            "tags": []
          }
        },
        {
          "output_type": "display_data",
          "data": {
            "application/vnd.jupyter.widget-view+json": {
              "model_id": "6a88f074ce39444798c8ce46d8300e16",
              "version_minor": 0,
              "version_major": 2
            },
            "text/plain": [
              "VBox(children=(Label(value=' 0.52MB of 0.52MB uploaded (0.00MB deduped)\\r'), FloatProgress(value=1.0, max=1.0)…"
            ]
          },
          "metadata": {
            "tags": []
          }
        },
        {
          "output_type": "display_data",
          "data": {
            "text/html": [
              "Find user logs for this run at: <code>/content/wandb/run-20210406_212606-1ids7z8v/logs/debug.log</code>"
            ],
            "text/plain": [
              "<IPython.core.display.HTML object>"
            ]
          },
          "metadata": {
            "tags": []
          }
        },
        {
          "output_type": "display_data",
          "data": {
            "text/html": [
              "Find internal logs for this run at: <code>/content/wandb/run-20210406_212606-1ids7z8v/logs/debug-internal.log</code>"
            ],
            "text/plain": [
              "<IPython.core.display.HTML object>"
            ]
          },
          "metadata": {
            "tags": []
          }
        },
        {
          "output_type": "display_data",
          "data": {
            "text/html": [
              "<h3>Run summary:</h3><br/><style>\n",
              "    table.wandb td:nth-child(1) { padding: 0 10px; text-align: right }\n",
              "    </style><table class=\"wandb\">\n",
              "<tr><td>train/loss_step</td><td>0.08813</td></tr><tr><td>train/acc_step</td><td>0.97727</td></tr><tr><td>epoch</td><td>4</td></tr><tr><td>trainer/global_step</td><td>2150</td></tr><tr><td>_runtime</td><td>79</td></tr><tr><td>_timestamp</td><td>1617744445</td></tr><tr><td>_step</td><td>48</td></tr><tr><td>train/loss_epoch</td><td>0.17654</td></tr><tr><td>train/acc_epoch</td><td>0.94845</td></tr><tr><td>test/loss_epoch</td><td>0.16673</td></tr><tr><td>test/acc_epoch</td><td>0.9505</td></tr></table>"
            ],
            "text/plain": [
              "<IPython.core.display.HTML object>"
            ]
          },
          "metadata": {
            "tags": []
          }
        },
        {
          "output_type": "display_data",
          "data": {
            "text/html": [
              "<h3>Run history:</h3><br/><style>\n",
              "    table.wandb td:nth-child(1) { padding: 0 10px; text-align: right }\n",
              "    </style><table class=\"wandb\">\n",
              "<tr><td>train/loss_step</td><td>█▅▃▃▂▃▂▂▃▂▂▁▁▂▂▂▂▁▂▂▂▂▂▂▂▁▂▂▁▁▂▁▂▁▁▂▁▁▁▁</td></tr><tr><td>train/acc_step</td><td>▁▃▅▅▇▆▆▆▅▇▆▇▇▇▇▆▅▇▇▇▇▆▇▆▆▆▆▆█▇▆█▇▇▇▆▇▇▇█</td></tr><tr><td>epoch</td><td>▁▁▁▁▁▁▁▁▃▃▃▃▃▃▃▃▅▅▅▅▅▅▅▆▆▆▆▆▆▆▆█████████</td></tr><tr><td>trainer/global_step</td><td>▁▁▁▁▂▂▂▂▂▃▃▃▃▃▄▄▄▄▄▄▅▅▅▅▅▅▆▆▆▆▆▇▇▇▇▇████</td></tr><tr><td>_runtime</td><td>▁▁▁▁▂▂▂▂▂▃▃▃▃▃▄▄▄▄▄▄▅▅▅▅▅▅▆▆▆▆▆▇▇▇▇▇████</td></tr><tr><td>_timestamp</td><td>▁▁▁▁▂▂▂▂▂▃▃▃▃▃▄▄▄▄▄▄▅▅▅▅▅▅▆▆▆▆▆▇▇▇▇▇████</td></tr><tr><td>_step</td><td>▁▁▁▁▂▂▂▂▂▃▃▃▃▃▃▄▄▄▄▄▅▅▅▅▅▅▆▆▆▆▆▇▇▇▇▇▇███</td></tr><tr><td>train/loss_epoch</td><td>█▂▂▁▁</td></tr><tr><td>train/acc_epoch</td><td>▁▆▇██</td></tr><tr><td>test/loss_epoch</td><td>▁</td></tr><tr><td>test/acc_epoch</td><td>▁</td></tr></table><br/>"
            ],
            "text/plain": [
              "<IPython.core.display.HTML object>"
            ]
          },
          "metadata": {
            "tags": []
          }
        },
        {
          "output_type": "display_data",
          "data": {
            "text/html": [
              "Synced 5 W&B file(s), 0 media file(s), 0 artifact file(s) and 2 other file(s)"
            ],
            "text/plain": [
              "<IPython.core.display.HTML object>"
            ]
          },
          "metadata": {
            "tags": []
          }
        },
        {
          "output_type": "display_data",
          "data": {
            "text/html": [
              "\n",
              "                    <br/>Synced <strong style=\"color:#cdcd00\">solar-moon-1</strong>: <a href=\"https://wandb.ai/jacquesthibs/lit-wandb/runs/1ids7z8v\" target=\"_blank\">https://wandb.ai/jacquesthibs/lit-wandb/runs/1ids7z8v</a><br/>\n",
              "                "
            ],
            "text/plain": [
              "<IPython.core.display.HTML object>"
            ]
          },
          "metadata": {
            "tags": []
          }
        }
      ]
    },
    {
      "cell_type": "markdown",
      "metadata": {
        "id": "sgm8pGMXF-mB"
      },
      "source": [
        "> _Note_: In notebooks, we need to call `wandb.finish()` to indicate when we've finished our run. This isn't necessary in scripts."
      ]
    },
    {
      "cell_type": "code",
      "metadata": {
        "id": "X6_LlFpdE_Gn"
      },
      "source": [
        ""
      ],
      "execution_count": null,
      "outputs": []
    }
  ]
}