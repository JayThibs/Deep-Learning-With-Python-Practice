{
 "cells": [
  {
   "cell_type": "code",
   "execution_count": null,
   "metadata": {
    "collapsed": true
   },
   "outputs": [],
   "source": [
    "# def extract_data(filename):\n",
    "    \n",
    "#     #arrays to hold the labels and feature vectors.\n",
    "#     labels = []\n",
    "#     fvecs = []\n",
    "    \n",
    "#     #iterate over the rows, split the label from the features\n",
    "#     #convert labels to integers and features to floats\n",
    "#     for line in file(filename):\n",
    "#         row = line.split(',')\n",
    "#         labels.append\n",
    "        \n",
    "import pandas as pd\n",
    "\n",
    "dataframe = pandas.read_csv()"
   ]
  }
 ],
 "metadata": {
  "kernelspec": {
   "display_name": "Python 3",
   "language": "python",
   "name": "python3"
  },
  "language_info": {
   "codemirror_mode": {
    "name": "ipython",
    "version": 3
   },
   "file_extension": ".py",
   "mimetype": "text/x-python",
   "name": "python",
   "nbconvert_exporter": "python",
   "pygments_lexer": "ipython3",
   "version": "3.6.0"
  }
 },
 "nbformat": 4,
 "nbformat_minor": 2
}
